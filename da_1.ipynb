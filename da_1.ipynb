{
 "cells": [
  {
   "cell_type": "code",
   "execution_count": 1,
   "id": "a7c4692b",
   "metadata": {},
   "outputs": [],
   "source": [
    "# 3/28~4/8 - 넘파이, 판다스, ML\n",
    "# 4/11~5/2 - 2차 프로젝트(빅데이터 활용 팀 프로젝트), 오전 ML/DL, 오후 조별 회의실\n",
    "# 5/3~6/13 - 파이널 프로젝트(융합 프로젝트)\n",
    "# 6/14-발표 및 수료식\n",
    "\n",
    "# 넘파이 : 대량의 데이터를 빠르게 처리\n",
    "# 판다스 : 데이터 분석\n",
    "# 머신러닝(딥러닝) : 데이터 모델 -> 분류/예측"
   ]
  },
  {
   "cell_type": "code",
   "execution_count": 2,
   "id": "c8a10c7f",
   "metadata": {},
   "outputs": [],
   "source": [
    "import numpy as np"
   ]
  },
  {
   "cell_type": "code",
   "execution_count": 3,
   "id": "bf5d5a3e",
   "metadata": {},
   "outputs": [
    {
     "data": {
      "text/plain": [
       "'1.20.3'"
      ]
     },
     "execution_count": 3,
     "metadata": {},
     "output_type": "execute_result"
    }
   ],
   "source": [
    "np.__version__"
   ]
  },
  {
   "cell_type": "markdown",
   "id": "29c05a3b",
   "metadata": {},
   "source": [
    "# 제목 작성\n",
    "## 제목 작성\n",
    "### 제목 작성"
   ]
  },
  {
   "cell_type": "markdown",
   "id": "278b534e",
   "metadata": {},
   "source": [
    "[naver](http://www.naver.com)"
   ]
  },
  {
   "cell_type": "markdown",
   "id": "4c1f7bb3",
   "metadata": {},
   "source": [
    "__중요__\n",
    "**중요합니다**\n",
    "_조금 중요_\n",
    "*조금 중요*"
   ]
  },
  {
   "cell_type": "markdown",
   "id": "19beb503",
   "metadata": {},
   "source": [
    "> 인용구를 사용할 수 있어요\n",
    ">> 인용구 안에 인용구\n",
    ">> 인용구 안에 수식을 써봅시다. $y=3x$\n",
    "1. 첫번째\n",
    "2. 두번째\n",
    "3. 세번째\n",
    "* 파이썬\n",
    "* 넘파이\n",
    "* 판다스\n",
    "* 순서 없는 목록은 맨 앞에 *, +, - 기호를 작성한 다음 목록을 작성"
   ]
  },
  {
   "cell_type": "markdown",
   "id": "2d91f50e",
   "metadata": {},
   "source": [
    "* 수준1\n",
    "    * 수준2\n",
    "    * 수준3\n",
    "        * 수준4"
   ]
  },
  {
   "cell_type": "markdown",
   "id": "ee1cf9a2",
   "metadata": {},
   "source": [
    "1. 첫번째\n",
    "    * 수준1\n",
    "    * 수준2\n",
    "2. 두번째\n",
    "    * 수준3\n",
    "    * 수준4"
   ]
  },
  {
   "cell_type": "markdown",
   "id": "af302b55",
   "metadata": {},
   "source": [
    "***\n",
    "---\n",
    "<hr>"
   ]
  },
  {
   "cell_type": "markdown",
   "id": "97c55c43",
   "metadata": {},
   "source": [
    "넘파이  \n",
    "넘파이는 수치 연산 패키지입니다.  \n",
    "판다스는 데이터 분석 패키지입니다.  \n",
    "줄을 변경하고자 하는 경우에는 스페이스바를 2번 or br태그를 작성해도 됨<br>\n",
    "줄이 바뀜"
   ]
  },
  {
   "cell_type": "markdown",
   "id": "82bcb36b",
   "metadata": {},
   "source": [
    "<span style=\"color:red\">빨간색</span>  \n",
    "<span style='font-size:30px'>30px</span>"
   ]
  },
  {
   "cell_type": "markdown",
   "id": "35623a26",
   "metadata": {},
   "source": [
    "![멀캠](https://www.multicampus.com/img/saas/main/logo/CUS0001/pc_main.png)"
   ]
  },
  {
   "cell_type": "code",
   "execution_count": 6,
   "id": "63f23a9b",
   "metadata": {},
   "outputs": [],
   "source": [
    "#파이썬 리스트 -> 넘파이 배열\n",
    "arr=[1,2,3]"
   ]
  },
  {
   "cell_type": "code",
   "execution_count": 7,
   "id": "a0eca412",
   "metadata": {},
   "outputs": [
    {
     "data": {
      "text/plain": [
       "array([1, 2, 3])"
      ]
     },
     "execution_count": 7,
     "metadata": {},
     "output_type": "execute_result"
    }
   ],
   "source": [
    "a=np.array(arr)\n",
    "a"
   ]
  },
  {
   "cell_type": "code",
   "execution_count": 22,
   "id": "acbb546e",
   "metadata": {},
   "outputs": [],
   "source": [
    "#for i in range(5):\n",
    "myarr=np.arange(10000000)   \n",
    "mylist=list(range(10000000))"
   ]
  },
  {
   "cell_type": "code",
   "execution_count": 23,
   "id": "80f51766",
   "metadata": {},
   "outputs": [
    {
     "name": "stdout",
     "output_type": "stream",
     "text": [
      "Wall time: 672 ms\n"
     ]
    }
   ],
   "source": [
    "#mylist에 저장된 데이터를 2배 한 값을 mylist2에 저장\n",
    "# mylist2=[]\n",
    "# for i in mylist:\n",
    "#     mylist2.append(i*2)\n",
    "%time mylist2=[i*2 for i in mylist] #0.672초 소요"
   ]
  },
  {
   "cell_type": "code",
   "execution_count": 24,
   "id": "75d76cec",
   "metadata": {},
   "outputs": [
    {
     "name": "stdout",
     "output_type": "stream",
     "text": [
      "Wall time: 16 ms\n"
     ]
    }
   ],
   "source": [
    "%time myarr2=myarr*2 #0.016초 소요(수십 배 빠름)"
   ]
  },
  {
   "cell_type": "code",
   "execution_count": 26,
   "id": "ab1b15db",
   "metadata": {},
   "outputs": [
    {
     "data": {
      "text/plain": [
       "array([       0,        2,        4, ..., 19999994, 19999996, 19999998])"
      ]
     },
     "execution_count": 26,
     "metadata": {},
     "output_type": "execute_result"
    }
   ],
   "source": [
    "myarr2"
   ]
  },
  {
   "cell_type": "code",
   "execution_count": 28,
   "id": "b475d74e",
   "metadata": {},
   "outputs": [
    {
     "data": {
      "text/plain": [
       "array([0.69646919, 0.28613933, 0.22685145, 0.55131477, 0.71946897])"
      ]
     },
     "execution_count": 28,
     "metadata": {},
     "output_type": "execute_result"
    }
   ],
   "source": [
    "np.random.seed(123)\n",
    "np.random.rand(5) #0~1 난수 생성"
   ]
  },
  {
   "cell_type": "code",
   "execution_count": 29,
   "id": "a3a39746",
   "metadata": {},
   "outputs": [
    {
     "data": {
      "text/plain": [
       "array([[0.42310646, 0.9807642 ],\n",
       "       [0.68482974, 0.4809319 ],\n",
       "       [0.39211752, 0.34317802]])"
      ]
     },
     "execution_count": 29,
     "metadata": {},
     "output_type": "execute_result"
    }
   ],
   "source": [
    "np.random.rand(3,2) #행렬"
   ]
  },
  {
   "cell_type": "code",
   "execution_count": 33,
   "id": "2e961951",
   "metadata": {},
   "outputs": [
    {
     "data": {
      "text/plain": [
       "array([[1, 4, 3],\n",
       "       [3, 3, 3]])"
      ]
     },
     "execution_count": 33,
     "metadata": {},
     "output_type": "execute_result"
    }
   ],
   "source": [
    "np.random.randint(1,5,size=10) #1<=정수난수<5\n",
    "np.random.randint(1,5,size=(2,3)) #1<=정수난수<5"
   ]
  },
  {
   "cell_type": "code",
   "execution_count": 39,
   "id": "286b7ad4",
   "metadata": {},
   "outputs": [
    {
     "data": {
      "text/plain": [
       "array([2.99848016, 0.65236559, 4.28549566, 0.35746031, 2.11884052])"
      ]
     },
     "execution_count": 39,
     "metadata": {},
     "output_type": "execute_result"
    }
   ],
   "source": [
    "#표준정규분포(평균:0, 표준편차:1) 따르는 난수 생성\n",
    "np.random.randn(10)\n",
    "np.mean(np.random.randn(10))\n",
    "np.std(np.random.randn(10))\n",
    "\n",
    "np.random.randn(2,3) #2행3열\n",
    "\n",
    "#평균:2, 표준편차:1.5인 정규분포\n",
    "sigma, mu = 1.5, 2\n",
    "sigma*np.random.randn(5)+mu"
   ]
  },
  {
   "cell_type": "code",
   "execution_count": 41,
   "id": "402e17ff",
   "metadata": {},
   "outputs": [
    {
     "data": {
      "text/plain": [
       "array([-0.07512059, -0.74081377,  0.07290724,  0.40308596,  1.47192937,\n",
       "        0.30738422, -0.61122534, -0.39161981,  0.13997811,  0.09346083])"
      ]
     },
     "execution_count": 41,
     "metadata": {},
     "output_type": "execute_result"
    }
   ],
   "source": [
    "#정규분포 난수 생성\n",
    "#sigma*np.random.randn(5)+mu\n",
    "np.random.normal(0,1,10) #평균:0, 표준편차:1, 데이터 :10"
   ]
  },
  {
   "cell_type": "code",
   "execution_count": 49,
   "id": "411bf217",
   "metadata": {},
   "outputs": [
    {
     "data": {
      "text/plain": [
       "array([0, 1, 3])"
      ]
     },
     "execution_count": 49,
     "metadata": {},
     "output_type": "execute_result"
    }
   ],
   "source": [
    "np.random.choice(5) #0~4 범위에서 난수 1개 생성\n",
    "np.random.choice(5,5) #0~4 범위에서 난수 5개 생성\n",
    "np.random.choice(5,10) #0~4 범위에서 난수 10개 생성\n",
    "np.random.choice(5,(5,2))\n",
    "#기본값 : 복원추출로 설정되어 있음\n",
    "\n",
    "np.random.choice(5,5, replace=False) #비복원\n",
    "np.random.choice(5,3, replace=False) #비복원\n"
   ]
  },
  {
   "cell_type": "code",
   "execution_count": 54,
   "id": "13af352e",
   "metadata": {},
   "outputs": [
    {
     "name": "stdout",
     "output_type": "stream",
     "text": [
      "[[-0.12643756  1.17591077  0.68007153]\n",
      " [-1.00496715  0.64021868  1.37499063]]\n",
      "==================================================\n",
      "[[-0.37931269  3.52773232  2.0402146 ]\n",
      " [-3.01490146  1.92065604  4.12497189]]\n"
     ]
    }
   ],
   "source": [
    "#numpy:벡터화연산->속도빠름, list:벡터화연산못함=>속도느림\n",
    "data=np.random.randn(2,3)\n",
    "print(data)\n",
    "print(\"=\"*50)\n",
    "print(data*3)#numpy:벡터화연산->속도빠름\n",
    "#벡터화연산?for문 사용 안함. 모든 요소에 대해 공통의 연산 수행"
   ]
  },
  {
   "cell_type": "code",
   "execution_count": 56,
   "id": "c38f4d7c",
   "metadata": {},
   "outputs": [
    {
     "data": {
      "text/plain": [
       "array([[0.01598646, 1.38276614, 0.46249729],\n",
       "       [1.00995898, 0.40987996, 1.89059924]])"
      ]
     },
     "execution_count": 56,
     "metadata": {},
     "output_type": "execute_result"
    }
   ],
   "source": [
    "data * data #element wise product not equal matrix multiply"
   ]
  },
  {
   "cell_type": "code",
   "execution_count": 60,
   "id": "58a571ed",
   "metadata": {},
   "outputs": [
    {
     "data": {
      "text/plain": [
       "dtype('float64')"
      ]
     },
     "execution_count": 60,
     "metadata": {},
     "output_type": "execute_result"
    }
   ],
   "source": [
    "data.shape\n",
    "data.dtype"
   ]
  },
  {
   "cell_type": "code",
   "execution_count": 63,
   "id": "4d9672b6",
   "metadata": {},
   "outputs": [
    {
     "data": {
      "text/plain": [
       "[6, 7.5, 8, 0, 1]"
      ]
     },
     "execution_count": 63,
     "metadata": {},
     "output_type": "execute_result"
    }
   ],
   "source": [
    "data1=[6, 7.5, 8, 0, 1]\n",
    "data1#리스트는 다양한 타입의 데이터가 저장"
   ]
  },
  {
   "cell_type": "code",
   "execution_count": 62,
   "id": "7db3411e",
   "metadata": {},
   "outputs": [
    {
     "data": {
      "text/plain": [
       "array([6. , 7.5, 8. , 0. , 1. ])"
      ]
     },
     "execution_count": 62,
     "metadata": {},
     "output_type": "execute_result"
    }
   ],
   "source": [
    "arr1=np.array(data1) #정수, 실수 => 실수로 통일 \n",
    "arr1 #동일한 타입의 데이터가 저장"
   ]
  },
  {
   "cell_type": "code",
   "execution_count": 66,
   "id": "4a60e6f7",
   "metadata": {},
   "outputs": [
    {
     "data": {
      "text/plain": [
       "array([[0., 0.],\n",
       "       [0., 0.],\n",
       "       [0., 0.]])"
      ]
     },
     "execution_count": 66,
     "metadata": {},
     "output_type": "execute_result"
    }
   ],
   "source": [
    "np.zeros(10)\n",
    "np.zeros((3,2))"
   ]
  },
  {
   "cell_type": "code",
   "execution_count": 68,
   "id": "ea2e780c",
   "metadata": {},
   "outputs": [
    {
     "data": {
      "text/plain": [
       "array([[1., 1.],\n",
       "       [1., 1.],\n",
       "       [1., 1.]])"
      ]
     },
     "execution_count": 68,
     "metadata": {},
     "output_type": "execute_result"
    }
   ],
   "source": [
    "np.ones(10)\n",
    "np.ones((3,2))"
   ]
  },
  {
   "cell_type": "code",
   "execution_count": 72,
   "id": "16ffa361",
   "metadata": {},
   "outputs": [
    {
     "data": {
      "text/plain": [
       "array([2., 2., 2., 2., 2., 2., 2., 2., 2., 2.])"
      ]
     },
     "execution_count": 72,
     "metadata": {},
     "output_type": "execute_result"
    }
   ],
   "source": [
    "np.ones(10)*2"
   ]
  },
  {
   "cell_type": "code",
   "execution_count": 75,
   "id": "06b6c5c2",
   "metadata": {},
   "outputs": [
    {
     "data": {
      "text/plain": [
       "array([0, 1, 2, 3, 4, 5, 6, 7, 8, 9])"
      ]
     },
     "execution_count": 75,
     "metadata": {},
     "output_type": "execute_result"
    }
   ],
   "source": [
    "arr=np.arange(10)\n",
    "arr.dtype\n",
    "arr"
   ]
  },
  {
   "cell_type": "code",
   "execution_count": 78,
   "id": "49b1e54f",
   "metadata": {},
   "outputs": [
    {
     "data": {
      "text/plain": [
       "dtype('int64')"
      ]
     },
     "execution_count": 78,
     "metadata": {},
     "output_type": "execute_result"
    }
   ],
   "source": [
    "#배열에 저장된 자료의 타입을 변경\n",
    "farr=arr.astype(np.float64)\n",
    "farr\n",
    "farr.dtype\n",
    "arr=farr.astype(np.int64)\n",
    "arr.dtype"
   ]
  },
  {
   "cell_type": "code",
   "execution_count": 79,
   "id": "c29ad4f7",
   "metadata": {},
   "outputs": [],
   "source": [
    "arr=np.array([[1,2],[3,4]]) \n",
    "#배열:1차원배열(벡터),2차원배열(행렬), 3차원배열~(고차원배열)"
   ]
  },
  {
   "cell_type": "code",
   "execution_count": 84,
   "id": "5c8c6064",
   "metadata": {},
   "outputs": [
    {
     "data": {
      "text/plain": [
       "array([[1.        , 1.41421356],\n",
       "       [1.73205081, 2.        ]])"
      ]
     },
     "execution_count": 84,
     "metadata": {},
     "output_type": "execute_result"
    }
   ],
   "source": [
    "arr*arr #element wise product\n",
    "arr+arr\n",
    "arr-arr\n",
    "arr/arr\n",
    "arr**2 #제곱\n",
    "arr**0.5 #제곱근"
   ]
  },
  {
   "cell_type": "code",
   "execution_count": 88,
   "id": "028832a6",
   "metadata": {},
   "outputs": [],
   "source": [
    "arr=np.array([[1,2],[3,4]]) "
   ]
  },
  {
   "cell_type": "code",
   "execution_count": 89,
   "id": "e7df5245",
   "metadata": {},
   "outputs": [],
   "source": [
    "arr2=np.ones((2,2))"
   ]
  },
  {
   "cell_type": "code",
   "execution_count": 90,
   "id": "f8306024",
   "metadata": {},
   "outputs": [
    {
     "data": {
      "text/plain": [
       "array([[False,  True],\n",
       "       [ True,  True]])"
      ]
     },
     "execution_count": 90,
     "metadata": {},
     "output_type": "execute_result"
    }
   ],
   "source": [
    "arr>arr2 #요소간 비교 연산"
   ]
  },
  {
   "cell_type": "code",
   "execution_count": 94,
   "id": "f077baaa",
   "metadata": {},
   "outputs": [
    {
     "data": {
      "text/plain": [
       "array([ 0,  2,  4,  6,  8, 10, 12, 14, 16, 18])"
      ]
     },
     "execution_count": 94,
     "metadata": {},
     "output_type": "execute_result"
    }
   ],
   "source": [
    "np.arange(10)*2 #배열(1차원 벡터)*2(0차원 스칼라)"
   ]
  },
  {
   "cell_type": "code",
   "execution_count": 96,
   "id": "27fa214f",
   "metadata": {},
   "outputs": [],
   "source": [
    "arr=np.arange(10)*2 #브로드캐스팅(broad casting):크기를 동일하게 만든 다음 연산\n",
    "#손오공(브로드캐스팅), 2 -> [2,2,...,2] 10개 -> element wise product"
   ]
  },
  {
   "cell_type": "code",
   "execution_count": 97,
   "id": "70709186",
   "metadata": {},
   "outputs": [
    {
     "data": {
      "text/plain": [
       "array([ 0,  2,  4,  6,  8, 10, 12, 14, 16, 18])"
      ]
     },
     "execution_count": 97,
     "metadata": {},
     "output_type": "execute_result"
    }
   ],
   "source": [
    "arr"
   ]
  },
  {
   "cell_type": "code",
   "execution_count": 100,
   "id": "44ba421b",
   "metadata": {},
   "outputs": [
    {
     "data": {
      "text/plain": [
       "array([ 0,  2,  4,  6,  8, 20, 20, 20, 16, 18])"
      ]
     },
     "execution_count": 100,
     "metadata": {},
     "output_type": "execute_result"
    }
   ],
   "source": [
    "arr[5:8] #5번~8-1번 index\n",
    "arr[5:8]=20\n",
    "arr"
   ]
  },
  {
   "cell_type": "code",
   "execution_count": 102,
   "id": "bd356024",
   "metadata": {},
   "outputs": [
    {
     "data": {
      "text/plain": [
       "array([ 8, 20, 20, 20])"
      ]
     },
     "execution_count": 102,
     "metadata": {},
     "output_type": "execute_result"
    }
   ],
   "source": [
    "arr2=arr[4:8]\n",
    "arr2 #배열 -> 일부 slicing -> 새로운 배열 생성"
   ]
  },
  {
   "cell_type": "code",
   "execution_count": 108,
   "id": "ca06ddb0",
   "metadata": {},
   "outputs": [],
   "source": [
    "arr=np.arange(10)*2\n",
    "#arr=99 #기존 array는 제거되고, 새롭게 99라는 값을 arr변수에 저장\n",
    "arr[:]=99 #일괄적으로 모든 값을 갱신"
   ]
  },
  {
   "cell_type": "code",
   "execution_count": 109,
   "id": "99c8d795",
   "metadata": {},
   "outputs": [
    {
     "data": {
      "text/plain": [
       "array([99, 99, 99, 99, 99, 99, 99, 99, 99, 99])"
      ]
     },
     "execution_count": 109,
     "metadata": {},
     "output_type": "execute_result"
    }
   ],
   "source": [
    "arr"
   ]
  },
  {
   "cell_type": "code",
   "execution_count": 112,
   "id": "6e657507",
   "metadata": {},
   "outputs": [
    {
     "data": {
      "text/plain": [
       "array([[10, 11, 12],\n",
       "       [13, 14, 15]])"
      ]
     },
     "execution_count": 112,
     "metadata": {},
     "output_type": "execute_result"
    }
   ],
   "source": [
    "arr=np.arange(10,16)\n",
    "arr\n",
    "arr2d=arr.reshape(2,3)#1차원 -> 2차원\n",
    "arr2d"
   ]
  },
  {
   "cell_type": "code",
   "execution_count": 117,
   "id": "cfce594d",
   "metadata": {},
   "outputs": [
    {
     "data": {
      "text/plain": [
       "12"
      ]
     },
     "execution_count": 117,
     "metadata": {},
     "output_type": "execute_result"
    }
   ],
   "source": [
    "arr2d[0]\n",
    "arr2d[1]\n",
    "arr2d[0][2] #1행 3열 요소값 추출\n",
    "arr2d[0,2]"
   ]
  },
  {
   "cell_type": "code",
   "execution_count": 121,
   "id": "19edba5e",
   "metadata": {},
   "outputs": [],
   "source": [
    "arr=np.arange(1,25)\n",
    "arr #1차원 배열 -> 3차원 배열\n",
    "arr=arr.reshape(4,3,2) #4행 3열 2깊이"
   ]
  },
  {
   "cell_type": "code",
   "execution_count": 124,
   "id": "12f0bd3f",
   "metadata": {},
   "outputs": [
    {
     "data": {
      "text/plain": [
       "array([ 1,  2,  3,  4,  5,  6,  7,  8,  9, 10, 11, 12, 13, 14, 15, 16, 17,\n",
       "       18, 19, 20, 21, 22, 23, 24])"
      ]
     },
     "execution_count": 124,
     "metadata": {},
     "output_type": "execute_result"
    }
   ],
   "source": [
    "arr.ravel() #3차원 배열 -> 1차원 배열\n",
    "arr.flatten()#3차원 배열 -> 1차원 배열"
   ]
  },
  {
   "cell_type": "code",
   "execution_count": 129,
   "id": "cb55cda6",
   "metadata": {},
   "outputs": [
    {
     "data": {
      "text/plain": [
       "array([[[ 1,  2],\n",
       "        [ 3,  4],\n",
       "        [ 5,  6]],\n",
       "\n",
       "       [[ 7,  8],\n",
       "        [ 9, 10],\n",
       "        [11, 12]],\n",
       "\n",
       "       [[13, 14],\n",
       "        [15, 16],\n",
       "        [17, 18]],\n",
       "\n",
       "       [[19, 20],\n",
       "        [21, 22],\n",
       "        [23, 24]]])"
      ]
     },
     "execution_count": 129,
     "metadata": {},
     "output_type": "execute_result"
    }
   ],
   "source": [
    "arr.shape #4행 3열 2깊이\n",
    "arr.ndim #차원\n",
    "arr.sum() #모든 요소의 합\n",
    "arr #4*3*2"
   ]
  },
  {
   "cell_type": "code",
   "execution_count": 131,
   "id": "c4a9e7ca",
   "metadata": {},
   "outputs": [
    {
     "data": {
      "text/plain": [
       "array([[40, 44],\n",
       "       [48, 52],\n",
       "       [56, 60]])"
      ]
     },
     "execution_count": 131,
     "metadata": {},
     "output_type": "execute_result"
    }
   ],
   "source": [
    "arr.sum(axis=None) #default, 전체 요소의 합\n",
    "arr.sum(axis=0) #3*2"
   ]
  },
  {
   "cell_type": "code",
   "execution_count": 132,
   "id": "13ada20c",
   "metadata": {},
   "outputs": [
    {
     "data": {
      "text/plain": [
       "array([[ 9, 12],\n",
       "       [27, 30],\n",
       "       [45, 48],\n",
       "       [63, 66]])"
      ]
     },
     "execution_count": 132,
     "metadata": {},
     "output_type": "execute_result"
    }
   ],
   "source": [
    "arr.sum(axis=1) #4*2"
   ]
  },
  {
   "cell_type": "code",
   "execution_count": 134,
   "id": "ab98aa59",
   "metadata": {},
   "outputs": [
    {
     "data": {
      "text/plain": [
       "array([[ 3,  7, 11],\n",
       "       [15, 19, 23],\n",
       "       [27, 31, 35],\n",
       "       [39, 43, 47]])"
      ]
     },
     "execution_count": 134,
     "metadata": {},
     "output_type": "execute_result"
    }
   ],
   "source": [
    "arr.sum(axis=2) #(4, 3, 2)->(4*3)\n",
    "                #(행,열,깊이)\n",
    "#다양한 데이터에 대해 선형대수 연산(sum)"
   ]
  },
  {
   "cell_type": "code",
   "execution_count": 137,
   "id": "d2ed86d7",
   "metadata": {},
   "outputs": [
    {
     "data": {
      "text/plain": [
       "array([[[ 1,  2],\n",
       "        [ 3,  4],\n",
       "        [ 5,  6]],\n",
       "\n",
       "       [[ 7,  8],\n",
       "        [ 9, 10],\n",
       "        [11, 12]],\n",
       "\n",
       "       [[13, 14],\n",
       "        [15, 16],\n",
       "        [17, 18]],\n",
       "\n",
       "       [[19, 20],\n",
       "        [21, 22],\n",
       "        [23, 24]]])"
      ]
     },
     "execution_count": 137,
     "metadata": {},
     "output_type": "execute_result"
    }
   ],
   "source": [
    "arr"
   ]
  },
  {
   "cell_type": "code",
   "execution_count": 136,
   "id": "326fdb96",
   "metadata": {},
   "outputs": [
    {
     "data": {
      "text/plain": [
       "(4, 3, 2)"
      ]
     },
     "execution_count": 136,
     "metadata": {},
     "output_type": "execute_result"
    }
   ],
   "source": [
    "arr.shape #(4, 3, 2)"
   ]
  },
  {
   "cell_type": "markdown",
   "id": "cb904582",
   "metadata": {},
   "source": [
    "axis=None 모든 요소의 합 -> 1개의 스칼라 값  \n",
    "axis=0 x축 기준으로 여러개의 row를 1개로 합침  \n",
    "axis=1 y축 기준으로 여러개의 row별로 column를 1개로 합침  \n",
    "axis=2 z축 column의 depth값들을 1개로 합침  "
   ]
  },
  {
   "cell_type": "code",
   "execution_count": 141,
   "id": "b06b5ae1",
   "metadata": {},
   "outputs": [
    {
     "data": {
      "text/plain": [
       "array([[11, 12, 13],\n",
       "       [14, 15, 16],\n",
       "       [17, 18, 19]])"
      ]
     },
     "execution_count": 141,
     "metadata": {},
     "output_type": "execute_result"
    }
   ],
   "source": [
    "arr=np.arange(11,20)\n",
    "arr=arr.reshape(3,3)\n",
    "arr"
   ]
  },
  {
   "cell_type": "code",
   "execution_count": 148,
   "id": "e1e39031",
   "metadata": {},
   "outputs": [
    {
     "data": {
      "text/plain": [
       "array([[12, 13],\n",
       "       [15, 16]])"
      ]
     },
     "execution_count": 148,
     "metadata": {},
     "output_type": "execute_result"
    }
   ],
   "source": [
    "#배열명[행,열]\n",
    "arr[0:2]\n",
    "arr[:2]\n",
    "arr[0:2,] # arr[0:2,:]\n",
    "arr[0:2,1:]\n",
    "arr[0:2,1:3]"
   ]
  },
  {
   "cell_type": "code",
   "execution_count": 157,
   "id": "3c79cbfb",
   "metadata": {},
   "outputs": [
    {
     "data": {
      "text/plain": [
       "array([[17, 18, 19]])"
      ]
     },
     "execution_count": 157,
     "metadata": {},
     "output_type": "execute_result"
    }
   ],
   "source": [
    "#arr[2]# 1차원 배열  #arr[2,]  arr[2,:]\n",
    "arr[2:]# arr[2:,:]# 2차원 배열\n",
    "arr[2:3]\n",
    "arr[2:3,:]"
   ]
  },
  {
   "cell_type": "code",
   "execution_count": 158,
   "id": "6be1e0bb",
   "metadata": {},
   "outputs": [
    {
     "data": {
      "text/plain": [
       "array([[11, 12, 13],\n",
       "       [14, 15, 16],\n",
       "       [17, 18, 19]])"
      ]
     },
     "execution_count": 158,
     "metadata": {},
     "output_type": "execute_result"
    }
   ],
   "source": [
    "arr"
   ]
  },
  {
   "cell_type": "code",
   "execution_count": 161,
   "id": "eba7c146",
   "metadata": {},
   "outputs": [
    {
     "data": {
      "text/plain": [
       "array([[11, 12],\n",
       "       [14, 15],\n",
       "       [17, 18]])"
      ]
     },
     "execution_count": 161,
     "metadata": {},
     "output_type": "execute_result"
    }
   ],
   "source": [
    "arr[:,:2]\n",
    "arr[0:3,:2]\n",
    "arr[0:3,0:2]"
   ]
  },
  {
   "cell_type": "code",
   "execution_count": 163,
   "id": "8fd186b8",
   "metadata": {},
   "outputs": [
    {
     "data": {
      "text/plain": [
       "array([14, 15])"
      ]
     },
     "execution_count": 163,
     "metadata": {},
     "output_type": "execute_result"
    }
   ],
   "source": [
    "arr[1,:2] #1차원"
   ]
  },
  {
   "cell_type": "code",
   "execution_count": 164,
   "id": "e6ee5c6b",
   "metadata": {},
   "outputs": [
    {
     "data": {
      "text/plain": [
       "array([[14, 15]])"
      ]
     },
     "execution_count": 164,
     "metadata": {},
     "output_type": "execute_result"
    }
   ],
   "source": [
    "arr[1:2,:2] #2차원"
   ]
  },
  {
   "cell_type": "code",
   "execution_count": 167,
   "id": "a13f1c13",
   "metadata": {},
   "outputs": [
    {
     "data": {
      "text/plain": [
       "array([[1., 0., 0., 0.],\n",
       "       [0., 1., 0., 0.],\n",
       "       [0., 0., 1., 0.],\n",
       "       [0., 0., 0., 1.]])"
      ]
     },
     "execution_count": 167,
     "metadata": {},
     "output_type": "execute_result"
    }
   ],
   "source": [
    "a=np.eye(4) #단위행렬(I), X*I=I*X=X\n",
    "a"
   ]
  },
  {
   "cell_type": "code",
   "execution_count": 169,
   "id": "b0bfc2c9",
   "metadata": {},
   "outputs": [
    {
     "data": {
      "text/plain": [
       "array([[1., 1., 1., 1.],\n",
       "       [1., 1., 1., 1.],\n",
       "       [1., 1., 1., 1.],\n",
       "       [1., 1., 1., 1.]])"
      ]
     },
     "execution_count": 169,
     "metadata": {},
     "output_type": "execute_result"
    }
   ],
   "source": [
    "np.zeros_like(a)\n",
    "np.ones_like(a)"
   ]
  },
  {
   "cell_type": "code",
   "execution_count": 170,
   "id": "29525bdf",
   "metadata": {},
   "outputs": [
    {
     "data": {
      "text/plain": [
       "array([10, 11, 12, 13, 14, 15, 16, 17, 18, 19, 20, 21, 22, 23, 24, 25, 26,\n",
       "       27, 28, 29, 30, 31, 32, 33, 34, 35, 36, 37, 38, 39, 40, 41, 42, 43,\n",
       "       44, 45, 46, 47, 48, 49])"
      ]
     },
     "execution_count": 170,
     "metadata": {},
     "output_type": "execute_result"
    }
   ],
   "source": [
    "a=np.arange(10,50)\n",
    "a"
   ]
  },
  {
   "cell_type": "code",
   "execution_count": 174,
   "id": "25d9cdec",
   "metadata": {},
   "outputs": [
    {
     "data": {
      "text/plain": [
       "array([49, 48, 47, 46, 45, 44, 43, 42, 41, 40, 39, 38, 37, 36, 35, 34, 33,\n",
       "       32, 31, 30, 29, 28, 27, 26, 25, 24, 23, 22, 21, 20, 19, 18, 17, 16,\n",
       "       15, 14, 13, 12, 11, 10])"
      ]
     },
     "execution_count": 174,
     "metadata": {},
     "output_type": "execute_result"
    }
   ],
   "source": [
    "a\n",
    "a[:] #순방향, a[시작:끝]\n",
    "a[::]#순방향, a[시작:끝:방향]\n",
    "a[::1] #순방향\n",
    "a[::-1] #역방향"
   ]
  },
  {
   "cell_type": "code",
   "execution_count": 175,
   "id": "9a03972b",
   "metadata": {},
   "outputs": [
    {
     "data": {
      "text/plain": [
       "(array([1, 2, 4], dtype=int64),)"
      ]
     },
     "execution_count": 175,
     "metadata": {},
     "output_type": "execute_result"
    }
   ],
   "source": [
    "np.nonzero([0,1,2,0,3])"
   ]
  },
  {
   "cell_type": "code",
   "execution_count": null,
   "id": "42b2a1d7",
   "metadata": {},
   "outputs": [],
   "source": []
  },
  {
   "cell_type": "code",
   "execution_count": null,
   "id": "e35c7803",
   "metadata": {},
   "outputs": [],
   "source": []
  },
  {
   "cell_type": "code",
   "execution_count": null,
   "id": "114ee004",
   "metadata": {},
   "outputs": [],
   "source": []
  }
 ],
 "metadata": {
  "kernelspec": {
   "display_name": "Python 3 (ipykernel)",
   "language": "python",
   "name": "python3"
  },
  "language_info": {
   "codemirror_mode": {
    "name": "ipython",
    "version": 3
   },
   "file_extension": ".py",
   "mimetype": "text/x-python",
   "name": "python",
   "nbconvert_exporter": "python",
   "pygments_lexer": "ipython3",
   "version": "3.9.7"
  }
 },
 "nbformat": 4,
 "nbformat_minor": 5
}
