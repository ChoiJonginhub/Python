{
 "cells": [
  {
   "cell_type": "code",
   "execution_count": 2,
   "metadata": {},
   "outputs": [
    {
     "name": "stdout",
     "output_type": "stream",
     "text": [
      "Requirement already satisfied: pymysql in c:\\users\\mjk05\\anaconda3\\lib\\site-packages (1.0.2)\n"
     ]
    }
   ],
   "source": [
    "# 파이썬에서 sql서버 연동\n",
    "# 데이터베이스 생성\n",
    "!pip install pymysql"
   ]
  },
  {
   "cell_type": "code",
   "execution_count": 1,
   "metadata": {},
   "outputs": [],
   "source": [
    "import pymysql"
   ]
  },
  {
   "cell_type": "code",
   "execution_count": 11,
   "metadata": {
    "scrolled": true
   },
   "outputs": [],
   "source": [
    "db_connected=pymysql.connect(\n",
    "host='localhost',  #내 컴퓨터 주소(대표전화번호,127.0.0.1;연결하고자 하는 대상 데이터베이스 서버의 주소)\n",
    "port=3306, #구내번호\n",
    "user='root', #사용자 계정\n",
    "passwd='1234', #사용자 비밀번호\n",
    "charset='utf8'\n",
    ")"
   ]
  },
  {
   "cell_type": "code",
   "execution_count": 13,
   "metadata": {},
   "outputs": [],
   "source": [
    "#cursor:연결된 데이터베이스 서버와 상호작용을 하기 위해 필요한 객체\n",
    "db_curconnected=db_connected.cursor()"
   ]
  },
  {
   "cell_type": "code",
   "execution_count": null,
   "metadata": {},
   "outputs": [],
   "source": [
    "db_curconnected.execute(\"create database users_db;\")"
   ]
  },
  {
   "cell_type": "code",
   "execution_count": 15,
   "metadata": {},
   "outputs": [
    {
     "data": {
      "text/plain": [
       "1"
      ]
     },
     "execution_count": 15,
     "metadata": {},
     "output_type": "execute_result"
    }
   ],
   "source": [
    "#데이터베이스 생성\n",
    "db_curconnected.execute(\"create database users_db;\")"
   ]
  },
  {
   "cell_type": "code",
   "execution_count": 8,
   "metadata": {},
   "outputs": [
    {
     "data": {
      "text/plain": [
       "0"
      ]
     },
     "execution_count": 8,
     "metadata": {},
     "output_type": "execute_result"
    }
   ],
   "source": [
    "#데이터베이스 삭제\n",
    "db_curconnected.execute(\"drop database users_db;\")\n"
   ]
  },
  {
   "cell_type": "code",
   "execution_count": 9,
   "metadata": {},
   "outputs": [],
   "source": [
    "#command 창에서 sawon_db 데이터베이스 생성 -> 확인 -> 삭제\n",
    "#주피터노트북에서 sawon_db 데이터베이스 생성 -> 확인 -> 삭제\n"
   ]
  },
  {
   "cell_type": "code",
   "execution_count": null,
   "metadata": {},
   "outputs": [],
   "source": [
    "db_curconnected.execute(\"create database users_db;\")"
   ]
  },
  {
   "cell_type": "code",
   "execution_count": 16,
   "metadata": {},
   "outputs": [],
   "source": [
    "db_connected=pymysql.connect(\n",
    "host='localhost',  #내 컴퓨터 주소(대표전화번호,127.0.0.1;연결하고자 하는 대상 데이터베이스 서버의 주소)\n",
    "port=3306, #구내번호\n",
    "db='users_db', #연동 데이터베이스\n",
    "user='root', #사용자 계정\n",
    "passwd='1234', #사용자 비밀번호\n",
    "charset='utf8'\n",
    ")"
   ]
  },
  {
   "cell_type": "code",
   "execution_count": 18,
   "metadata": {},
   "outputs": [],
   "source": [
    "db_curconnected=db_connected.cursor()"
   ]
  },
  {
   "cell_type": "code",
   "execution_count": 19,
   "metadata": {},
   "outputs": [
    {
     "data": {
      "text/plain": [
       "0"
      ]
     },
     "execution_count": 19,
     "metadata": {},
     "output_type": "execute_result"
    }
   ],
   "source": [
    "#테이블 생성\n",
    "sql_cmd=\"\"\"\n",
    "create table student(\n",
    "hakbun int not null,\n",
    "name varchar(20) not null,\n",
    "addr varchar(50) null default 'seoul',\n",
    "grade int not null,\n",
    "age int null,\n",
    "gender char(1) not null);\n",
    "\"\"\"\n",
    "\n",
    "db_curconnected.execute(sql_cmd)\n"
   ]
  },
  {
   "cell_type": "code",
   "execution_count": 20,
   "metadata": {},
   "outputs": [
    {
     "data": {
      "text/plain": [
       "0"
      ]
     },
     "execution_count": 20,
     "metadata": {},
     "output_type": "execute_result"
    }
   ],
   "source": [
    "sql_cmd=\"\"\"\n",
    "create table user_info(\n",
    "id int not null auto_increment,\n",
    "user_id varchar(100) not null,\n",
    "user_email varchar(100) not null,\n",
    "primary key(id)\n",
    ");\n",
    "\"\"\"\n",
    "db_curconnected.execute(sql_cmd)"
   ]
  },
  {
   "cell_type": "code",
   "execution_count": null,
   "metadata": {},
   "outputs": [],
   "source": []
  },
  {
   "cell_type": "code",
   "execution_count": 21,
   "metadata": {},
   "outputs": [],
   "source": [
    "#####데이터 추가######\n",
    "import pymysql"
   ]
  },
  {
   "cell_type": "code",
   "execution_count": 22,
   "metadata": {},
   "outputs": [],
   "source": [
    "db_connect=pymysql.connect(\n",
    "host='127.0.0.1',\n",
    "    port=3306,\n",
    "    db='users_db',\n",
    "    user='root',\n",
    "    passwd='1234',\n",
    "    charset='utf8'\n",
    ")"
   ]
  },
  {
   "cell_type": "code",
   "execution_count": 23,
   "metadata": {},
   "outputs": [],
   "source": [
    "db_connected=db_connect.cursor()"
   ]
  },
  {
   "cell_type": "code",
   "execution_count": 26,
   "metadata": {},
   "outputs": [],
   "source": [
    "sql_cmd=\"insert into user_info(user_id, user_email) values (%s, %s)\""
   ]
  },
  {
   "cell_type": "code",
   "execution_count": 29,
   "metadata": {},
   "outputs": [
    {
     "data": {
      "text/plain": [
       "1"
      ]
     },
     "execution_count": 29,
     "metadata": {},
     "output_type": "execute_result"
    }
   ],
   "source": [
    "db_connected.execute(sql_cmd, ('guest', 'test@abc.com'))\n",
    "db_connected.execute(sql_cmd, ('kim', 'kc@naver.com'))"
   ]
  },
  {
   "cell_type": "code",
   "execution_count": 30,
   "metadata": {},
   "outputs": [],
   "source": [
    "db_connect.commit()"
   ]
  },
  {
   "cell_type": "code",
   "execution_count": 32,
   "metadata": {},
   "outputs": [
    {
     "data": {
      "text/plain": [
       "((1, 'guest', 'test@abc.com'),\n",
       " (2, 'kim', 'kc@naver.com'),\n",
       " (3, 'guest', 'test@abc.com'),\n",
       " (4, 'kim', 'kc@naver.com'))"
      ]
     },
     "execution_count": 32,
     "metadata": {},
     "output_type": "execute_result"
    }
   ],
   "source": [
    "db_connected.execute(\"select * from user_info\")\n",
    "db_connected.fetchall()"
   ]
  },
  {
   "cell_type": "code",
   "execution_count": 33,
   "metadata": {},
   "outputs": [
    {
     "data": {
      "text/plain": [
       "((2, 'kim', 'kc@naver.com'), (4, 'kim', 'kc@naver.com'))"
      ]
     },
     "execution_count": 33,
     "metadata": {},
     "output_type": "execute_result"
    }
   ],
   "source": [
    "db_connected.execute(\"select * from user_info where user_id='kim'\")\n",
    "db_connected.fetchall()"
   ]
  },
  {
   "cell_type": "code",
   "execution_count": 34,
   "metadata": {},
   "outputs": [
    {
     "data": {
      "text/plain": [
       "((2, 'kim', 'kc@naver.com'), (4, 'kim', 'kc@naver.com'))"
      ]
     },
     "execution_count": 34,
     "metadata": {},
     "output_type": "execute_result"
    }
   ],
   "source": [
    "db_connected.execute(\"select * from user_info where user_id=%s\", 'kim')\n",
    "db_connected.fetchall()"
   ]
  },
  {
   "cell_type": "code",
   "execution_count": 35,
   "metadata": {},
   "outputs": [
    {
     "data": {
      "text/plain": [
       "((2, 'kim', 'kc@naver.com'), (4, 'kim', 'kc@naver.com'))"
      ]
     },
     "execution_count": 35,
     "metadata": {},
     "output_type": "execute_result"
    }
   ],
   "source": [
    "sql_cmd=\"select * from user_info where user_id=%s\"\n",
    "db_connected.execute(sql_cmd, 'kim')\n",
    "db_connected.fetchall()"
   ]
  },
  {
   "cell_type": "code",
   "execution_count": null,
   "metadata": {},
   "outputs": [],
   "source": []
  },
  {
   "cell_type": "code",
   "execution_count": 36,
   "metadata": {},
   "outputs": [],
   "source": [
    "#######테이블 데이터 업데이트###########"
   ]
  },
  {
   "cell_type": "code",
   "execution_count": 37,
   "metadata": {},
   "outputs": [],
   "source": [
    "import pymysql"
   ]
  },
  {
   "cell_type": "code",
   "execution_count": 39,
   "metadata": {},
   "outputs": [],
   "source": [
    "db_connect=pymysql.connect(\n",
    "host='localhost', #127.0.0.1\n",
    "port=3306,\n",
    "db='users_db',\n",
    "user='root',\n",
    "passwd='1234',\n",
    "charset='utf8'\n",
    ")"
   ]
  },
  {
   "cell_type": "code",
   "execution_count": 40,
   "metadata": {},
   "outputs": [],
   "source": [
    "db_connected=db_connect.cursor()"
   ]
  },
  {
   "cell_type": "code",
   "execution_count": 43,
   "metadata": {},
   "outputs": [],
   "source": [
    "#user_email열 test@abc.com -> test@xy.kr\n",
    "sql_cmd=\"update user_info set user_email='test@xy.kr'\"\n",
    "db_connected.execute(sql_cmd)\n",
    "db_connect.commit()"
   ]
  },
  {
   "cell_type": "code",
   "execution_count": 44,
   "metadata": {},
   "outputs": [
    {
     "data": {
      "text/plain": [
       "((1, 'guest', 'test@xy.kr'),\n",
       " (2, 'kim', 'test@xy.kr'),\n",
       " (3, 'guest', 'test@xy.kr'),\n",
       " (4, 'kim', 'test@xy.kr'))"
      ]
     },
     "execution_count": 44,
     "metadata": {},
     "output_type": "execute_result"
    }
   ],
   "source": [
    "db_connected.execute(\"select * from user_info\")\n",
    "db_connected.fetchall()"
   ]
  },
  {
   "cell_type": "code",
   "execution_count": null,
   "metadata": {},
   "outputs": [],
   "source": []
  },
  {
   "cell_type": "code",
   "execution_count": 45,
   "metadata": {},
   "outputs": [
    {
     "data": {
      "text/plain": [
       "2"
      ]
     },
     "execution_count": 45,
     "metadata": {},
     "output_type": "execute_result"
    }
   ],
   "source": [
    "#user_id열 kim-> lee\n",
    "sql_cmd=\"update user_info set user_id='lee' where user_id='kim'\"\n",
    "db_connected.execute(sql_cmd)\n",
    "#db_connect.commit()"
   ]
  },
  {
   "cell_type": "code",
   "execution_count": 46,
   "metadata": {},
   "outputs": [
    {
     "data": {
      "text/plain": [
       "((1, 'guest', 'test@xy.kr'),\n",
       " (2, 'lee', 'test@xy.kr'),\n",
       " (3, 'guest', 'test@xy.kr'),\n",
       " (4, 'lee', 'test@xy.kr'))"
      ]
     },
     "execution_count": 46,
     "metadata": {},
     "output_type": "execute_result"
    }
   ],
   "source": [
    "db_connected.execute(\"select * from user_info\")\n",
    "db_connected.fetchall()"
   ]
  },
  {
   "cell_type": "code",
   "execution_count": 48,
   "metadata": {},
   "outputs": [
    {
     "data": {
      "text/plain": [
       "2"
      ]
     },
     "execution_count": 48,
     "metadata": {},
     "output_type": "execute_result"
    }
   ],
   "source": [
    "#user_id열 kim-> lee\n",
    "sql_cmd=\"update user_info set user_id=%s where user_id=%s\"\n",
    "db_connected.execute(sql_cmd, ('kim', 'lee') )\n",
    "#db_connect.commit()"
   ]
  },
  {
   "cell_type": "code",
   "execution_count": 49,
   "metadata": {},
   "outputs": [
    {
     "data": {
      "text/plain": [
       "((1, 'guest', 'test@xy.kr'),\n",
       " (2, 'kim', 'test@xy.kr'),\n",
       " (3, 'guest', 'test@xy.kr'),\n",
       " (4, 'kim', 'test@xy.kr'))"
      ]
     },
     "execution_count": 49,
     "metadata": {},
     "output_type": "execute_result"
    }
   ],
   "source": [
    "db_connected.execute(\"select * from user_info\")\n",
    "db_connected.fetchall()"
   ]
  },
  {
   "cell_type": "code",
   "execution_count": null,
   "metadata": {},
   "outputs": [],
   "source": []
  },
  {
   "cell_type": "code",
   "execution_count": 50,
   "metadata": {},
   "outputs": [],
   "source": [
    "##########테이블 데이터 삭제##############"
   ]
  },
  {
   "cell_type": "code",
   "execution_count": 52,
   "metadata": {},
   "outputs": [],
   "source": [
    "import pymysql"
   ]
  },
  {
   "cell_type": "code",
   "execution_count": 53,
   "metadata": {},
   "outputs": [],
   "source": [
    "db_connect=pymysql.connect(\n",
    "host='localhost', #127.0.0.1\n",
    "port=3306,\n",
    "db='users_db',\n",
    "user='root',\n",
    "passwd='1234',\n",
    "charset='utf8'\n",
    ")"
   ]
  },
  {
   "cell_type": "code",
   "execution_count": 54,
   "metadata": {},
   "outputs": [],
   "source": [
    "db_connected=db_connect.cursor()"
   ]
  },
  {
   "cell_type": "code",
   "execution_count": 56,
   "metadata": {},
   "outputs": [
    {
     "data": {
      "text/plain": [
       "2"
      ]
     },
     "execution_count": 56,
     "metadata": {},
     "output_type": "execute_result"
    }
   ],
   "source": [
    "sql_cmd=\"delete from user_info where user_id='guest'\"#\"user_id가 guest인 사람의 자료 모두 삭제\"\n",
    "db_connected.execute(sql_cmd)"
   ]
  },
  {
   "cell_type": "code",
   "execution_count": 57,
   "metadata": {},
   "outputs": [
    {
     "data": {
      "text/plain": [
       "((2, 'kim', 'test@xy.kr'), (4, 'kim', 'test@xy.kr'))"
      ]
     },
     "execution_count": 57,
     "metadata": {},
     "output_type": "execute_result"
    }
   ],
   "source": [
    "db_connected.execute(\"select * from user_info\")\n",
    "db_connected.fetchall()"
   ]
  },
  {
   "cell_type": "code",
   "execution_count": null,
   "metadata": {},
   "outputs": [],
   "source": []
  },
  {
   "cell_type": "code",
   "execution_count": null,
   "metadata": {},
   "outputs": [],
   "source": []
  },
  {
   "cell_type": "code",
   "execution_count": null,
   "metadata": {},
   "outputs": [],
   "source": [
    "#테이블 생성\n",
    "# sql_cmd=\"\"\"\n",
    "# create table student(\n",
    "# hakbun int not null,\n",
    "# name varchar(20) not null,\n",
    "# addr varchar(50) null default 'seoul',\n",
    "# grade int not null,\n",
    "# age int null,\n",
    "# gender char(1) not null);\n",
    "# \"\"\"\n",
    "\n",
    "# db_curconnected.execute(sql_cmd)"
   ]
  },
  {
   "cell_type": "code",
   "execution_count": null,
   "metadata": {},
   "outputs": [],
   "source": [
    "# 테이블명:student\n",
    "# 컬럼:hakbun,name,addr,grade,age,gender\n",
    "#2022001, '비티에스', '서울시', 1, 25, '남'\n",
    "#2021005, '블핑', '서울시', 2, 23, '여'\n",
    "#2022002, '서태지', '경기도', 4, 28, '남'\n",
    "#2019001, '조용필', '제주도', 4, 35, '남'\n",
    "#2021003, '원더걸스', '서울시', 3, 22, '여'"
   ]
  },
  {
   "cell_type": "code",
   "execution_count": 58,
   "metadata": {},
   "outputs": [
    {
     "data": {
      "text/plain": [
       "5"
      ]
     },
     "execution_count": 58,
     "metadata": {},
     "output_type": "execute_result"
    }
   ],
   "source": [
    "#데이터 추가\n",
    "sql_cmd=\"\"\"\n",
    "insert into student(hakbun, name, addr, grade, age, gender)\n",
    "values\n",
    "(2022001,'비티에스','서울시', 1, 25, '남'),\n",
    "(2022005,'블핑','서울시', 2, 24, '여'),\n",
    "(2022003,'서태지','경기도', 4, 28, '남'),\n",
    "(2019001,'조용필','제주도', 4, 35, '남'),\n",
    "(2021002,'원더걸스','서울시', 3, 22, '여')\n",
    "\n",
    "\"\"\"\n",
    "db_connected.execute(sql_cmd)\n"
   ]
  },
  {
   "cell_type": "code",
   "execution_count": 59,
   "metadata": {},
   "outputs": [
    {
     "data": {
      "text/plain": [
       "((2022001, '비티에스', '서울시', 1, 25, '남'),\n",
       " (2022005, '블핑', '서울시', 2, 24, '여'),\n",
       " (2022003, '서태지', '경기도', 4, 28, '남'),\n",
       " (2019001, '조용필', '제주도', 4, 35, '남'),\n",
       " (2021002, '원더걸스', '서울시', 3, 22, '여'))"
      ]
     },
     "execution_count": 59,
     "metadata": {},
     "output_type": "execute_result"
    }
   ],
   "source": [
    "db_connected.execute(\"select * from student\")\n",
    "db_connected.fetchall()\n"
   ]
  },
  {
   "cell_type": "code",
   "execution_count": 60,
   "metadata": {},
   "outputs": [
    {
     "data": {
      "text/plain": [
       "((2022003, '서태지', '경기도', 4, 28, '남'),\n",
       " (2019001, '조용필', '제주도', 4, 35, '남'),\n",
       " (2021002, '원더걸스', '서울시', 3, 22, '여'))"
      ]
     },
     "execution_count": 60,
     "metadata": {},
     "output_type": "execute_result"
    }
   ],
   "source": [
    "#학년이 3학년 이상인 학생만 추출\n",
    "db_connected.execute(\"select * from student where grade >= 3\")\n",
    "db_connected.fetchall()\n"
   ]
  },
  {
   "cell_type": "code",
   "execution_count": 7,
   "metadata": {},
   "outputs": [
    {
     "data": {
      "text/plain": [
       "0"
      ]
     },
     "execution_count": 7,
     "metadata": {},
     "output_type": "execute_result"
    }
   ],
   "source": [
    "import pymysql\n",
    "db_connected=pymysql.connect(\n",
    "host='localhost',  #내 컴퓨터 주소(대표전화번호,127.0.0.1;연결하고자 하는 대상 데이터베이스 서버의 주소)\n",
    "port=3306, #구내번호\n",
    "user='root', #사용자 계정\n",
    "passwd='1234', #사용자 비밀번호\n",
    "charset='utf8'\n",
    ")\n",
    "db_curconnected=db_connected.cursor()\n",
    "db_curconnected.execute(\"create database sawon_db;\")\n",
    "db_connect2=pymysql.connect(\n",
    "host='localhost',\n",
    "    port=3306,\n",
    "    db='sawon_db',\n",
    "    user='root',\n",
    "    passwd='1234',\n",
    "    charset='utf8'\n",
    ")\n",
    "db_cur2=db_connect2.cursor()\n",
    "sql_cmd=\"\"\"\n",
    "create table sawon(\n",
    "sabun varchar(5) not null,\n",
    "name varchar(10) not null,\n",
    "juso varchar(20) not null,\n",
    "tel varchar(20) not null,\n",
    "year int not null);\"\"\"\n",
    "db_cur2.execute(sql_cmd)"
   ]
  },
  {
   "cell_type": "code",
   "execution_count": 13,
   "metadata": {},
   "outputs": [
    {
     "data": {
      "text/plain": [
       "10"
      ]
     },
     "execution_count": 13,
     "metadata": {},
     "output_type": "execute_result"
    }
   ],
   "source": [
    "sql_cmd=\"\"\"\n",
    "insert into sawon(sabun, name, juso, tel, year)\n",
    "values\n",
    "('s0001','홍길동','서울시', '010-1111-2222', 5),\n",
    "('s0002','임꺽정','경기도', '010-2222-2222', 3),\n",
    "('s0003','전우치','인천시', '010-3333-2222', 2),\n",
    "('s0004','손오공','강원도', '010-5555-3333', 1),\n",
    "('s0005','저팔계','서울시', '010-7777-999', 8)\n",
    "\n",
    "\"\"\"\n",
    "db_cur2.execute(sql_cmd)\n",
    "db_cur2.execute(\"select * from sawon\")"
   ]
  },
  {
   "cell_type": "code",
   "execution_count": 15,
   "metadata": {},
   "outputs": [
    {
     "data": {
      "text/plain": [
       "4"
      ]
     },
     "execution_count": 15,
     "metadata": {},
     "output_type": "execute_result"
    }
   ],
   "source": [
    "db_cur2.execute(\"select * from sawon where juso='서울시'\")"
   ]
  },
  {
   "cell_type": "code",
   "execution_count": 20,
   "metadata": {},
   "outputs": [
    {
     "data": {
      "text/plain": [
       "(('s0001', '홍길동', '서울시', '010-1111-2222', 10),\n",
       " ('s0002', '임꺽정', '경기도', '010-2222-2222', 3),\n",
       " ('s0003', '전우치', '인천시', '010-3333-2222', 2),\n",
       " ('s0004', '손오공', '강원도', '010-5555-3333', 1),\n",
       " ('s0005', '저팔계', '서울시', '010-7777-999', 8),\n",
       " ('s0001', '홍길동', '서울시', '010-1111-2222', 10),\n",
       " ('s0002', '임꺽정', '경기도', '010-2222-2222', 3),\n",
       " ('s0003', '전우치', '인천시', '010-3333-2222', 2),\n",
       " ('s0004', '손오공', '강원도', '010-5555-3333', 1),\n",
       " ('s0005', '저팔계', '서울시', '010-7777-999', 8))"
      ]
     },
     "execution_count": 20,
     "metadata": {},
     "output_type": "execute_result"
    }
   ],
   "source": [
    "db_cur2.execute(\"update sawon set year=10 where name='홍길동'\")"
   ]
  },
  {
   "cell_type": "code",
   "execution_count": 21,
   "metadata": {},
   "outputs": [
    {
     "data": {
      "text/plain": [
       "2"
      ]
     },
     "execution_count": 21,
     "metadata": {},
     "output_type": "execute_result"
    }
   ],
   "source": [
    "db_cur2.execute(\"delete from sawon where tel='010-1111-2222'\")"
   ]
  },
  {
   "cell_type": "code",
   "execution_count": 22,
   "metadata": {},
   "outputs": [
    {
     "data": {
      "text/plain": [
       "(('s0002', '임꺽정', '경기도', '010-2222-2222', 3),\n",
       " ('s0003', '전우치', '인천시', '010-3333-2222', 2),\n",
       " ('s0004', '손오공', '강원도', '010-5555-3333', 1),\n",
       " ('s0005', '저팔계', '서울시', '010-7777-999', 8),\n",
       " ('s0002', '임꺽정', '경기도', '010-2222-2222', 3),\n",
       " ('s0003', '전우치', '인천시', '010-3333-2222', 2),\n",
       " ('s0004', '손오공', '강원도', '010-5555-3333', 1),\n",
       " ('s0005', '저팔계', '서울시', '010-7777-999', 8))"
      ]
     },
     "execution_count": 22,
     "metadata": {},
     "output_type": "execute_result"
    }
   ],
   "source": [
    "db_cur2.execute(\"select * from sawon\")\n",
    "db_cur2.fetchall()"
   ]
  },
  {
   "cell_type": "code",
   "execution_count": null,
   "metadata": {},
   "outputs": [],
   "source": []
  }
 ],
 "metadata": {
  "kernelspec": {
   "display_name": "Python 3 (ipykernel)",
   "language": "python",
   "name": "python3"
  },
  "language_info": {
   "codemirror_mode": {
    "name": "ipython",
    "version": 3
   },
   "file_extension": ".py",
   "mimetype": "text/x-python",
   "name": "python",
   "nbconvert_exporter": "python",
   "pygments_lexer": "ipython3",
   "version": "3.9.7"
  }
 },
 "nbformat": 4,
 "nbformat_minor": 2
}
