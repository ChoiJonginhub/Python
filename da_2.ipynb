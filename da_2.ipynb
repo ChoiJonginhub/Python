{
 "cells": [
  {
   "cell_type": "code",
   "execution_count": 80,
   "id": "1be38af4",
   "metadata": {},
   "outputs": [],
   "source": [
    "ns = ['1', '3', '5', '1', '3', '5', '1', '3', '5']"
   ]
  },
  {
   "cell_type": "code",
   "execution_count": 82,
   "id": "3100ea23",
   "metadata": {},
   "outputs": [
    {
     "name": "stdout",
     "output_type": "stream",
     "text": [
      "['3', '1', '5']\n"
     ]
    }
   ],
   "source": [
    "imsi=[]\n",
    "for i in ns:\n",
    "    if i not in imsi:\n",
    "        imsi.append(i)\n",
    "print(imsi)\n",
    "# for i in ns:\n",
    "#     print(i)\n",
    "#     if ns.count(i)>1:\n",
    "#         ns.remove(i)\n",
    "#         print(ns)\n",
    "#         print(\"=\"*50)"
   ]
  },
  {
   "cell_type": "code",
   "execution_count": 17,
   "id": "e48c1b55",
   "metadata": {},
   "outputs": [
    {
     "data": {
      "text/plain": [
       "['3', '1', '3', '5']"
      ]
     },
     "execution_count": 17,
     "metadata": {},
     "output_type": "execute_result"
    }
   ],
   "source": [
    "ns"
   ]
  },
  {
   "cell_type": "code",
   "execution_count": null,
   "id": "d6931b19",
   "metadata": {},
   "outputs": [],
   "source": []
  },
  {
   "cell_type": "code",
   "execution_count": 20,
   "id": "f9b0b1ab",
   "metadata": {},
   "outputs": [],
   "source": [
    "import numpy as np"
   ]
  },
  {
   "cell_type": "code",
   "execution_count": 21,
   "id": "30228413",
   "metadata": {},
   "outputs": [],
   "source": [
    "names=np.array(['Bob','Joe','Will','Bob','Joe','Will'])"
   ]
  },
  {
   "cell_type": "code",
   "execution_count": 23,
   "id": "487b3043",
   "metadata": {},
   "outputs": [
    {
     "data": {
      "text/plain": [
       "array([ True, False, False,  True, False, False])"
      ]
     },
     "execution_count": 23,
     "metadata": {},
     "output_type": "execute_result"
    }
   ],
   "source": [
    "names=='Bob'"
   ]
  },
  {
   "cell_type": "code",
   "execution_count": 25,
   "id": "b792dda0",
   "metadata": {},
   "outputs": [
    {
     "data": {
      "text/plain": [
       "array([[-0.02840924, -0.42067353,  0.57836342, -1.0642233 ],\n",
       "       [-0.97343965, -1.59782344, -1.45674991,  0.13112656],\n",
       "       [-0.00347091, -1.22192486,  1.17098253, -0.23367997],\n",
       "       [ 0.1819364 ,  1.03202303,  2.03604504,  0.2225838 ],\n",
       "       [-1.72391763,  1.12683022,  0.47304399, -1.18987802],\n",
       "       [-1.70351566,  0.45276756,  0.14475148, -1.15631933]])"
      ]
     },
     "execution_count": 25,
     "metadata": {},
     "output_type": "execute_result"
    }
   ],
   "source": [
    "data=np.random.randn(6,4)\n",
    "data"
   ]
  },
  {
   "cell_type": "code",
   "execution_count": 27,
   "id": "42665c30",
   "metadata": {},
   "outputs": [
    {
     "data": {
      "text/plain": [
       "array([[-0.02840924, -0.42067353,  0.57836342, -1.0642233 ],\n",
       "       [ 0.1819364 ,  1.03202303,  2.03604504,  0.2225838 ]])"
      ]
     },
     "execution_count": 27,
     "metadata": {},
     "output_type": "execute_result"
    }
   ],
   "source": [
    "data[names=='Bob']"
   ]
  },
  {
   "cell_type": "code",
   "execution_count": 28,
   "id": "ecf1c98d",
   "metadata": {},
   "outputs": [
    {
     "data": {
      "text/plain": [
       "array(['Bob', 'Bob'], dtype='<U4')"
      ]
     },
     "execution_count": 28,
     "metadata": {},
     "output_type": "execute_result"
    }
   ],
   "source": [
    "names[names=='Bob']"
   ]
  },
  {
   "cell_type": "code",
   "execution_count": 30,
   "id": "042eea0a",
   "metadata": {},
   "outputs": [
    {
     "data": {
      "text/plain": [
       "array([[ 0.57836342, -1.0642233 ],\n",
       "       [ 2.03604504,  0.2225838 ]])"
      ]
     },
     "execution_count": 30,
     "metadata": {},
     "output_type": "execute_result"
    }
   ],
   "source": [
    "data[names=='Bob', 2:]"
   ]
  },
  {
   "cell_type": "code",
   "execution_count": 31,
   "id": "743decdd",
   "metadata": {},
   "outputs": [
    {
     "data": {
      "text/plain": [
       "array([-1.0642233,  0.2225838])"
      ]
     },
     "execution_count": 31,
     "metadata": {},
     "output_type": "execute_result"
    }
   ],
   "source": [
    "data[names=='Bob', 3]"
   ]
  },
  {
   "cell_type": "code",
   "execution_count": 33,
   "id": "64aaf34f",
   "metadata": {},
   "outputs": [
    {
     "data": {
      "text/plain": [
       "array([False,  True,  True, False,  True,  True])"
      ]
     },
     "execution_count": 33,
     "metadata": {},
     "output_type": "execute_result"
    }
   ],
   "source": [
    "names != 'Bob'"
   ]
  },
  {
   "cell_type": "code",
   "execution_count": 39,
   "id": "d9c136a4",
   "metadata": {},
   "outputs": [
    {
     "data": {
      "text/plain": [
       "array([[-0.97343965, -1.59782344, -1.45674991,  0.13112656],\n",
       "       [-0.00347091, -1.22192486,  1.17098253, -0.23367997],\n",
       "       [-1.72391763,  1.12683022,  0.47304399, -1.18987802],\n",
       "       [-1.70351566,  0.45276756,  0.14475148, -1.15631933]])"
      ]
     },
     "execution_count": 39,
     "metadata": {},
     "output_type": "execute_result"
    }
   ],
   "source": [
    "data[names != 'Bob'] # data[~(names=='Bob')]"
   ]
  },
  {
   "cell_type": "code",
   "execution_count": 36,
   "id": "a5de0c79",
   "metadata": {},
   "outputs": [
    {
     "data": {
      "text/plain": [
       "array([False,  True,  True, False,  True,  True])"
      ]
     },
     "execution_count": 36,
     "metadata": {},
     "output_type": "execute_result"
    }
   ],
   "source": [
    "~(names=='Bob') #연산 결과의 반대(~)"
   ]
  },
  {
   "cell_type": "code",
   "execution_count": 40,
   "id": "85be4fd6",
   "metadata": {},
   "outputs": [
    {
     "data": {
      "text/plain": [
       "array([[-0.97343965, -1.59782344, -1.45674991,  0.13112656],\n",
       "       [-0.00347091, -1.22192486,  1.17098253, -0.23367997],\n",
       "       [-1.72391763,  1.12683022,  0.47304399, -1.18987802],\n",
       "       [-1.70351566,  0.45276756,  0.14475148, -1.15631933]])"
      ]
     },
     "execution_count": 40,
     "metadata": {},
     "output_type": "execute_result"
    }
   ],
   "source": [
    "data[~(names=='Bob')]"
   ]
  },
  {
   "cell_type": "code",
   "execution_count": 42,
   "id": "f2fb5c3d",
   "metadata": {},
   "outputs": [],
   "source": [
    "cond=names=='Bob'"
   ]
  },
  {
   "cell_type": "code",
   "execution_count": 45,
   "id": "cfa6214d",
   "metadata": {},
   "outputs": [
    {
     "data": {
      "text/plain": [
       "array([[-0.97343965, -1.59782344, -1.45674991,  0.13112656],\n",
       "       [-0.00347091, -1.22192486,  1.17098253, -0.23367997],\n",
       "       [-1.72391763,  1.12683022,  0.47304399, -1.18987802],\n",
       "       [-1.70351566,  0.45276756,  0.14475148, -1.15631933]])"
      ]
     },
     "execution_count": 45,
     "metadata": {},
     "output_type": "execute_result"
    }
   ],
   "source": [
    "cond\n",
    "~cond\n",
    "data[~cond]"
   ]
  },
  {
   "cell_type": "code",
   "execution_count": 48,
   "id": "cf4b149d",
   "metadata": {},
   "outputs": [
    {
     "data": {
      "text/plain": [
       "array([[-0.02840924, -0.42067353,  0.57836342, -1.0642233 ],\n",
       "       [-0.00347091, -1.22192486,  1.17098253, -0.23367997],\n",
       "       [ 0.1819364 ,  1.03202303,  2.03604504,  0.2225838 ],\n",
       "       [-1.70351566,  0.45276756,  0.14475148, -1.15631933]])"
      ]
     },
     "execution_count": 48,
     "metadata": {},
     "output_type": "execute_result"
    }
   ],
   "source": [
    "#이름이 밥이거나 윌인 사람의 데이터를 추출\n",
    "data[(names=='Bob')|(names=='Will')] # | : 또는(OR), & : 그리고(AND)"
   ]
  },
  {
   "cell_type": "code",
   "execution_count": 51,
   "id": "97d11167",
   "metadata": {},
   "outputs": [
    {
     "data": {
      "text/plain": [
       "array([-0.02840924, -0.42067353, -1.0642233 , -0.97343965, -1.59782344,\n",
       "       -1.45674991, -0.00347091, -1.22192486, -0.23367997, -1.72391763,\n",
       "       -1.18987802, -1.70351566, -1.15631933])"
      ]
     },
     "execution_count": 51,
     "metadata": {},
     "output_type": "execute_result"
    }
   ],
   "source": [
    "data #음수만 출력하세요\n",
    "data[data<0]"
   ]
  },
  {
   "cell_type": "code",
   "execution_count": 52,
   "id": "c9ca800f",
   "metadata": {},
   "outputs": [],
   "source": [
    "data #음수를 모두 0으로 변경하세요\n",
    "data[data<0]=0"
   ]
  },
  {
   "cell_type": "code",
   "execution_count": 53,
   "id": "c4a5ac0a",
   "metadata": {},
   "outputs": [
    {
     "data": {
      "text/plain": [
       "array([[0.        , 0.        , 0.57836342, 0.        ],\n",
       "       [0.        , 0.        , 0.        , 0.13112656],\n",
       "       [0.        , 0.        , 1.17098253, 0.        ],\n",
       "       [0.1819364 , 1.03202303, 2.03604504, 0.2225838 ],\n",
       "       [0.        , 1.12683022, 0.47304399, 0.        ],\n",
       "       [0.        , 0.45276756, 0.14475148, 0.        ]])"
      ]
     },
     "execution_count": 53,
     "metadata": {},
     "output_type": "execute_result"
    }
   ],
   "source": [
    "data"
   ]
  },
  {
   "cell_type": "code",
   "execution_count": 54,
   "id": "592b6376",
   "metadata": {},
   "outputs": [],
   "source": [
    "# names에서 이름이 Will이 아닌 사람들에 대한 index를 추출하여(0,1,3,4)\n",
    "# data 배열의 해당 index 자료 값을 모두 10으로 변경하시오."
   ]
  },
  {
   "cell_type": "code",
   "execution_count": 56,
   "id": "40bd056e",
   "metadata": {},
   "outputs": [],
   "source": [
    "data[names!='Will']=10"
   ]
  },
  {
   "cell_type": "code",
   "execution_count": null,
   "id": "292ea4b4",
   "metadata": {},
   "outputs": [],
   "source": []
  },
  {
   "cell_type": "code",
   "execution_count": 58,
   "id": "db43e17d",
   "metadata": {},
   "outputs": [],
   "source": [
    "arr=np.zeros((8,4))"
   ]
  },
  {
   "cell_type": "code",
   "execution_count": 60,
   "id": "6beddbe8",
   "metadata": {},
   "outputs": [
    {
     "name": "stdout",
     "output_type": "stream",
     "text": [
      "[10. 10. 10. 10.]\n",
      "==================================================\n",
      "[11. 11. 11. 11.]\n",
      "==================================================\n",
      "[12. 12. 12. 12.]\n",
      "==================================================\n",
      "[13. 13. 13. 13.]\n",
      "==================================================\n",
      "[14. 14. 14. 14.]\n",
      "==================================================\n",
      "[15. 15. 15. 15.]\n",
      "==================================================\n",
      "[16. 16. 16. 16.]\n",
      "==================================================\n",
      "[17. 17. 17. 17.]\n",
      "==================================================\n"
     ]
    }
   ],
   "source": [
    "for i in range(8):\n",
    "    arr[i]=i+10\n",
    "    print(arr[i])\n",
    "    print(\"=\"*50)"
   ]
  },
  {
   "cell_type": "code",
   "execution_count": 61,
   "id": "cc8883a8",
   "metadata": {},
   "outputs": [
    {
     "data": {
      "text/plain": [
       "array([[10., 10., 10., 10.],\n",
       "       [11., 11., 11., 11.],\n",
       "       [12., 12., 12., 12.],\n",
       "       [13., 13., 13., 13.],\n",
       "       [14., 14., 14., 14.],\n",
       "       [15., 15., 15., 15.],\n",
       "       [16., 16., 16., 16.],\n",
       "       [17., 17., 17., 17.]])"
      ]
     },
     "execution_count": 61,
     "metadata": {},
     "output_type": "execute_result"
    }
   ],
   "source": [
    "arr"
   ]
  },
  {
   "cell_type": "code",
   "execution_count": 66,
   "id": "a51be455",
   "metadata": {},
   "outputs": [
    {
     "data": {
      "text/plain": [
       "array([14., 14., 14., 14.])"
      ]
     },
     "execution_count": 66,
     "metadata": {},
     "output_type": "execute_result"
    }
   ],
   "source": [
    "arr[4].shape\n",
    "arr[4] #1차원"
   ]
  },
  {
   "cell_type": "code",
   "execution_count": 68,
   "id": "f8b3c3c6",
   "metadata": {},
   "outputs": [
    {
     "data": {
      "text/plain": [
       "(1, 4)"
      ]
     },
     "execution_count": 68,
     "metadata": {},
     "output_type": "execute_result"
    }
   ],
   "source": [
    "arr[[4]] #2차원\n",
    "arr[[4]].shape"
   ]
  },
  {
   "cell_type": "code",
   "execution_count": 69,
   "id": "dd51b12f",
   "metadata": {},
   "outputs": [
    {
     "data": {
      "text/plain": [
       "array([[10., 10., 10., 10.],\n",
       "       [11., 11., 11., 11.],\n",
       "       [12., 12., 12., 12.],\n",
       "       [13., 13., 13., 13.],\n",
       "       [14., 14., 14., 14.],\n",
       "       [15., 15., 15., 15.],\n",
       "       [16., 16., 16., 16.],\n",
       "       [17., 17., 17., 17.]])"
      ]
     },
     "execution_count": 69,
     "metadata": {},
     "output_type": "execute_result"
    }
   ],
   "source": [
    "arr"
   ]
  },
  {
   "cell_type": "code",
   "execution_count": 72,
   "id": "a4d948c7",
   "metadata": {},
   "outputs": [
    {
     "data": {
      "text/plain": [
       "array([[14., 14., 14., 14.],\n",
       "       [13., 13., 13., 13.],\n",
       "       [10., 10., 10., 10.],\n",
       "       [16., 16., 16., 16.]])"
      ]
     },
     "execution_count": 72,
     "metadata": {},
     "output_type": "execute_result"
    }
   ],
   "source": [
    "#5행 4열 출력\n",
    "arr[4,3] #0차원 스칼라, [] : 특정 요소값을 참조\n",
    "arr[[4,3]] #2차원 5행과 4행을 참조, [[]]: 특정 행을 참조\n",
    "arr[[4,3,0,6]]"
   ]
  },
  {
   "cell_type": "code",
   "execution_count": 76,
   "id": "89bce4d7",
   "metadata": {},
   "outputs": [
    {
     "data": {
      "text/plain": [
       "array([[15., 15., 15., 15.],\n",
       "       [13., 13., 13., 13.]])"
      ]
     },
     "execution_count": 76,
     "metadata": {},
     "output_type": "execute_result"
    }
   ],
   "source": [
    "arr[[5,3]]\n",
    "# [[15., 15., 15., 15.],\n",
    "# [13., 13., 13., 13.]]\n",
    "arr[[-3, -5]]"
   ]
  },
  {
   "cell_type": "code",
   "execution_count": 83,
   "id": "e88a72a7",
   "metadata": {},
   "outputs": [
    {
     "data": {
      "text/plain": [
       "array([[10, 11, 12, 13],\n",
       "       [14, 15, 16, 17],\n",
       "       [18, 19, 20, 21],\n",
       "       [22, 23, 24, 25],\n",
       "       [26, 27, 28, 29],\n",
       "       [30, 31, 32, 33],\n",
       "       [34, 35, 36, 37],\n",
       "       [38, 39, 40, 41]])"
      ]
     },
     "execution_count": 83,
     "metadata": {},
     "output_type": "execute_result"
    }
   ],
   "source": [
    "arr=np.arange(10,42).reshape(8,4)\n",
    "arr"
   ]
  },
  {
   "cell_type": "code",
   "execution_count": 87,
   "id": "994eda84",
   "metadata": {},
   "outputs": [
    {
     "data": {
      "text/plain": [
       "array([[14, 15, 16, 17],\n",
       "       [30, 31, 32, 33],\n",
       "       [38, 39, 40, 41],\n",
       "       [18, 19, 20, 21]])"
      ]
     },
     "execution_count": 87,
     "metadata": {},
     "output_type": "execute_result"
    }
   ],
   "source": [
    "arr[[1,5,7,2]]"
   ]
  },
  {
   "cell_type": "code",
   "execution_count": 88,
   "id": "dc287da3",
   "metadata": {},
   "outputs": [
    {
     "data": {
      "text/plain": [
       "array([14, 33, 39, 20])"
      ]
     },
     "execution_count": 88,
     "metadata": {},
     "output_type": "execute_result"
    }
   ],
   "source": [
    "arr[[1,5,7,2],[0]]#1,5,7,2행의 0열 값 추출\n",
    "arr[[1,5,7,2],[0,3,1,2]]#14,33,39,20"
   ]
  },
  {
   "cell_type": "code",
   "execution_count": 90,
   "id": "f770e6cd",
   "metadata": {},
   "outputs": [
    {
     "data": {
      "text/plain": [
       "array([[14, 15, 16, 17],\n",
       "       [30, 31, 32, 33],\n",
       "       [38, 39, 40, 41],\n",
       "       [18, 19, 20, 21]])"
      ]
     },
     "execution_count": 90,
     "metadata": {},
     "output_type": "execute_result"
    }
   ],
   "source": [
    "arr[[1,5,7,2]]"
   ]
  },
  {
   "cell_type": "code",
   "execution_count": 94,
   "id": "a3a31b61",
   "metadata": {},
   "outputs": [
    {
     "data": {
      "text/plain": [
       "array([[14, 17, 15, 16],\n",
       "       [30, 33, 31, 32],\n",
       "       [38, 41, 39, 40],\n",
       "       [18, 21, 19, 20]])"
      ]
     },
     "execution_count": 94,
     "metadata": {},
     "output_type": "execute_result"
    }
   ],
   "source": [
    "#[0,1,2,3] => [0,3,1,2]\n",
    "arr[[1,5,7,2]][:,[0,3,1,2]]"
   ]
  },
  {
   "cell_type": "code",
   "execution_count": 97,
   "id": "95c46c9f",
   "metadata": {},
   "outputs": [
    {
     "data": {
      "text/plain": [
       "array([[ 0,  1,  2,  3,  4],\n",
       "       [ 5,  6,  7,  8,  9],\n",
       "       [10, 11, 12, 13, 14]])"
      ]
     },
     "execution_count": 97,
     "metadata": {},
     "output_type": "execute_result"
    }
   ],
   "source": [
    "arr=np.arange(15).reshape(3,5)\n",
    "arr"
   ]
  },
  {
   "cell_type": "code",
   "execution_count": 100,
   "id": "a8d91fb1",
   "metadata": {},
   "outputs": [
    {
     "data": {
      "text/plain": [
       "(3, 5)"
      ]
     },
     "execution_count": 100,
     "metadata": {},
     "output_type": "execute_result"
    }
   ],
   "source": [
    "arr.T.shape\n",
    "arr.T.T.shape"
   ]
  },
  {
   "cell_type": "code",
   "execution_count": 102,
   "id": "946d1daf",
   "metadata": {},
   "outputs": [
    {
     "data": {
      "text/plain": [
       "(5, 3)"
      ]
     },
     "execution_count": 102,
     "metadata": {},
     "output_type": "execute_result"
    }
   ],
   "source": [
    "arr.shape #(3,5)\n",
    "arr.T.shape#(5,3)"
   ]
  },
  {
   "cell_type": "code",
   "execution_count": 105,
   "id": "e2574031",
   "metadata": {},
   "outputs": [
    {
     "data": {
      "text/plain": [
       "array([[ 30,  80, 130],\n",
       "       [ 80, 255, 430],\n",
       "       [130, 430, 730]])"
      ]
     },
     "execution_count": 105,
     "metadata": {},
     "output_type": "execute_result"
    }
   ],
   "source": [
    "#행렬의 곱셈\n",
    "np.dot(arr.T, arr) #5,3  3,5 => 5*5 행렬\n",
    "np.dot(arr, arr.T) #3,5 5,3 => 3*3 행렬"
   ]
  },
  {
   "cell_type": "code",
   "execution_count": 108,
   "id": "004abef0",
   "metadata": {},
   "outputs": [
    {
     "data": {
      "text/plain": [
       "array([0, 1, 2, 3, 4, 5, 6, 7, 8, 9])"
      ]
     },
     "execution_count": 108,
     "metadata": {},
     "output_type": "execute_result"
    }
   ],
   "source": [
    "arr=np.arange(10)\n",
    "arr"
   ]
  },
  {
   "cell_type": "code",
   "execution_count": 110,
   "id": "030f5631",
   "metadata": {},
   "outputs": [
    {
     "data": {
      "text/plain": [
       "array([1.00000000e+00, 2.71828183e+00, 7.38905610e+00, 2.00855369e+01,\n",
       "       5.45981500e+01, 1.48413159e+02, 4.03428793e+02, 1.09663316e+03,\n",
       "       2.98095799e+03, 8.10308393e+03])"
      ]
     },
     "execution_count": 110,
     "metadata": {},
     "output_type": "execute_result"
    }
   ],
   "source": [
    "np.sqrt(arr)\n",
    "np.exp(arr) #2.718 자연상수의 제곱"
   ]
  },
  {
   "cell_type": "code",
   "execution_count": 112,
   "id": "7bbef5dc",
   "metadata": {},
   "outputs": [],
   "source": [
    "x=np.random.randn(8)\n",
    "y=np.random.randn(8)"
   ]
  },
  {
   "cell_type": "code",
   "execution_count": 113,
   "id": "cbbd7018",
   "metadata": {},
   "outputs": [
    {
     "data": {
      "text/plain": [
       "array([ 0.13336043, -0.48745711,  1.05363277,  0.46301174, -0.33161611,\n",
       "       -1.2024254 ,  0.16805828, -0.254334  ])"
      ]
     },
     "execution_count": 113,
     "metadata": {},
     "output_type": "execute_result"
    }
   ],
   "source": [
    "x"
   ]
  },
  {
   "cell_type": "code",
   "execution_count": 114,
   "id": "2a404161",
   "metadata": {},
   "outputs": [
    {
     "data": {
      "text/plain": [
       "array([ 0.49682715, -0.28684321,  2.05790873, -0.11265404,  0.2087964 ,\n",
       "       -1.11452667,  1.23190367,  0.64779854])"
      ]
     },
     "execution_count": 114,
     "metadata": {},
     "output_type": "execute_result"
    }
   ],
   "source": [
    "y"
   ]
  },
  {
   "cell_type": "code",
   "execution_count": 115,
   "id": "ec202cb6",
   "metadata": {},
   "outputs": [],
   "source": [
    "#x,y 배열의 동일한 위치에 저장된 값들을 비교하여 큰 값을 출력\n",
    "#[0.49682715, -0.28684321, ... , 0.64779854]"
   ]
  },
  {
   "cell_type": "code",
   "execution_count": 117,
   "id": "e85521b3",
   "metadata": {},
   "outputs": [
    {
     "data": {
      "text/plain": [
       "array([ 0.49682715, -0.28684321,  2.05790873,  0.2087964 , -1.11452667,\n",
       "        1.23190367,  0.64779854])"
      ]
     },
     "execution_count": 117,
     "metadata": {},
     "output_type": "execute_result"
    }
   ],
   "source": [
    "y[x<y]"
   ]
  },
  {
   "cell_type": "code",
   "execution_count": 120,
   "id": "5b2c307a",
   "metadata": {},
   "outputs": [
    {
     "data": {
      "text/plain": [
       "array([ True,  True,  True, False,  True,  True,  True,  True])"
      ]
     },
     "execution_count": 120,
     "metadata": {},
     "output_type": "execute_result"
    }
   ],
   "source": [
    "x<y"
   ]
  },
  {
   "cell_type": "code",
   "execution_count": 122,
   "id": "fa4cd1b3",
   "metadata": {},
   "outputs": [],
   "source": [
    "x[x<y]=y[x<y]"
   ]
  },
  {
   "cell_type": "code",
   "execution_count": 123,
   "id": "57ecfb68",
   "metadata": {},
   "outputs": [
    {
     "data": {
      "text/plain": [
       "array([ 0.49682715, -0.28684321,  2.05790873,  0.46301174,  0.2087964 ,\n",
       "       -1.11452667,  1.23190367,  0.64779854])"
      ]
     },
     "execution_count": 123,
     "metadata": {},
     "output_type": "execute_result"
    }
   ],
   "source": [
    "x"
   ]
  },
  {
   "cell_type": "code",
   "execution_count": 125,
   "id": "8c098ddc",
   "metadata": {},
   "outputs": [
    {
     "data": {
      "text/plain": [
       "array([ 0.49682715, -0.28684321,  2.05790873, -0.11265404,  0.2087964 ,\n",
       "       -1.11452667,  1.23190367,  0.64779854])"
      ]
     },
     "execution_count": 125,
     "metadata": {},
     "output_type": "execute_result"
    }
   ],
   "source": [
    "np.maximum(x,y)\n",
    "np.minimum(x,y)"
   ]
  },
  {
   "cell_type": "code",
   "execution_count": 127,
   "id": "c078e0a4",
   "metadata": {},
   "outputs": [
    {
     "data": {
      "text/plain": [
       "array([-2.47754365, -4.62952122, -0.37753868,  0.71651323,  0.58031097,\n",
       "       -2.43666275, -4.48621388])"
      ]
     },
     "execution_count": 127,
     "metadata": {},
     "output_type": "execute_result"
    }
   ],
   "source": [
    "arr=np.random.randn(7)*5\n",
    "arr"
   ]
  },
  {
   "cell_type": "code",
   "execution_count": 130,
   "id": "c008f478",
   "metadata": {},
   "outputs": [
    {
     "data": {
      "text/plain": [
       "array([-2., -4., -0.,  0.,  0., -2., -4.])"
      ]
     },
     "execution_count": 130,
     "metadata": {},
     "output_type": "execute_result"
    }
   ],
   "source": [
    "np.modf(arr) #정수와 실수부분을 분리, 분리 결과가 튜플\n",
    "np.modf(arr)[0]\n",
    "np.modf(arr)[1]"
   ]
  },
  {
   "cell_type": "code",
   "execution_count": 132,
   "id": "a1ca5767",
   "metadata": {},
   "outputs": [],
   "source": [
    "remainder, whole_part=np.modf(arr)"
   ]
  },
  {
   "cell_type": "code",
   "execution_count": 137,
   "id": "0dd88928",
   "metadata": {},
   "outputs": [
    {
     "data": {
      "text/plain": [
       "array([-5, -4, -3, -2, -1,  0,  1,  2,  3,  4])"
      ]
     },
     "execution_count": 137,
     "metadata": {},
     "output_type": "execute_result"
    }
   ],
   "source": [
    "points=np.arange(-5,5)\n",
    "points.shape\n",
    "points"
   ]
  },
  {
   "cell_type": "code",
   "execution_count": 139,
   "id": "81003aef",
   "metadata": {
    "scrolled": true
   },
   "outputs": [
    {
     "data": {
      "text/plain": [
       "array([[-5, -5, -5, -5, -5, -5, -5, -5, -5, -5],\n",
       "       [-4, -4, -4, -4, -4, -4, -4, -4, -4, -4],\n",
       "       [-3, -3, -3, -3, -3, -3, -3, -3, -3, -3],\n",
       "       [-2, -2, -2, -2, -2, -2, -2, -2, -2, -2],\n",
       "       [-1, -1, -1, -1, -1, -1, -1, -1, -1, -1],\n",
       "       [ 0,  0,  0,  0,  0,  0,  0,  0,  0,  0],\n",
       "       [ 1,  1,  1,  1,  1,  1,  1,  1,  1,  1],\n",
       "       [ 2,  2,  2,  2,  2,  2,  2,  2,  2,  2],\n",
       "       [ 3,  3,  3,  3,  3,  3,  3,  3,  3,  3],\n",
       "       [ 4,  4,  4,  4,  4,  4,  4,  4,  4,  4]])"
      ]
     },
     "execution_count": 139,
     "metadata": {},
     "output_type": "execute_result"
    }
   ],
   "source": [
    "res=np.meshgrid(points,points) #1차원 배열 2개(x,y)를 입력받아서 짝을 구성하여 2차원 배열 2개 생성\n",
    "res[0]\n",
    "res[1]"
   ]
  },
  {
   "cell_type": "code",
   "execution_count": 140,
   "id": "99512233",
   "metadata": {},
   "outputs": [],
   "source": [
    "x,y=np.meshgrid(points,points)"
   ]
  },
  {
   "cell_type": "code",
   "execution_count": 149,
   "id": "9894a8d1",
   "metadata": {
    "scrolled": true
   },
   "outputs": [
    {
     "data": {
      "text/plain": [
       "array([[7.07106781, 6.40312424, 5.83095189, 5.38516481, 5.09901951,\n",
       "        5.        , 5.09901951, 5.38516481, 5.83095189, 6.40312424],\n",
       "       [6.40312424, 5.65685425, 5.        , 4.47213595, 4.12310563,\n",
       "        4.        , 4.12310563, 4.47213595, 5.        , 5.65685425],\n",
       "       [5.83095189, 5.        , 4.24264069, 3.60555128, 3.16227766,\n",
       "        3.        , 3.16227766, 3.60555128, 4.24264069, 5.        ],\n",
       "       [5.38516481, 4.47213595, 3.60555128, 2.82842712, 2.23606798,\n",
       "        2.        , 2.23606798, 2.82842712, 3.60555128, 4.47213595],\n",
       "       [5.09901951, 4.12310563, 3.16227766, 2.23606798, 1.41421356,\n",
       "        1.        , 1.41421356, 2.23606798, 3.16227766, 4.12310563],\n",
       "       [5.        , 4.        , 3.        , 2.        , 1.        ,\n",
       "        0.        , 1.        , 2.        , 3.        , 4.        ],\n",
       "       [5.09901951, 4.12310563, 3.16227766, 2.23606798, 1.41421356,\n",
       "        1.        , 1.41421356, 2.23606798, 3.16227766, 4.12310563],\n",
       "       [5.38516481, 4.47213595, 3.60555128, 2.82842712, 2.23606798,\n",
       "        2.        , 2.23606798, 2.82842712, 3.60555128, 4.47213595],\n",
       "       [5.83095189, 5.        , 4.24264069, 3.60555128, 3.16227766,\n",
       "        3.        , 3.16227766, 3.60555128, 4.24264069, 5.        ],\n",
       "       [6.40312424, 5.65685425, 5.        , 4.47213595, 4.12310563,\n",
       "        4.        , 4.12310563, 4.47213595, 5.        , 5.65685425]])"
      ]
     },
     "execution_count": 149,
     "metadata": {},
     "output_type": "execute_result"
    }
   ],
   "source": [
    "x.shape\n",
    "np.sqrt(x**2+y**2)"
   ]
  },
  {
   "cell_type": "code",
   "execution_count": null,
   "id": "d7fd94cd",
   "metadata": {},
   "outputs": [],
   "source": [
    "meshgrid함수를 활용\n",
    "array([[0, 1, 2],\n",
    "       [0, 1, 2],\n",
    "       [0, 1, 2],\n",
    "       [0, 1, 2],\n",
    "       [0, 1, 2]])\n",
    "\n",
    "array([[0, 0, 0],\n",
    "       [1, 1, 1],\n",
    "       [2, 2, 2],\n",
    "       [3, 3, 3],\n",
    "       [4, 4, 4]])"
   ]
  },
  {
   "cell_type": "code",
   "execution_count": 158,
   "id": "ba615c91",
   "metadata": {},
   "outputs": [],
   "source": [
    "x=np.arange(3) #array([0, 1, 2])\n",
    "x\n",
    "y=np.arange(5) #array([0, 1, 2, 3, 4])\n",
    "y\n",
    "xx, yy=np.meshgrid(x,y)"
   ]
  },
  {
   "cell_type": "code",
   "execution_count": 153,
   "id": "12e3753b",
   "metadata": {},
   "outputs": [
    {
     "data": {
      "text/plain": [
       "array([[0, 0, 0],\n",
       "       [1, 1, 1],\n",
       "       [2, 2, 2],\n",
       "       [3, 3, 3],\n",
       "       [4, 4, 4]])"
      ]
     },
     "execution_count": 153,
     "metadata": {},
     "output_type": "execute_result"
    }
   ],
   "source": [
    "# a=np.arange(0,5)\n",
    "# x,y=np.meshgrid(a,a)\n",
    "# x\n",
    "# y\n",
    "# x[:,0:3]\n",
    "# y[:,0:3]\n",
    "\n",
    "# x,y=np.meshgrid(np.arange(0,5),np.arange(0,5))\n",
    "# x=x[:,0:3]\n",
    "# y=y[:,0:3]\n"
   ]
  },
  {
   "cell_type": "code",
   "execution_count": null,
   "id": "001b635a",
   "metadata": {},
   "outputs": [],
   "source": []
  },
  {
   "cell_type": "code",
   "execution_count": 159,
   "id": "64aab84d",
   "metadata": {},
   "outputs": [
    {
     "data": {
      "text/plain": [
       "array([[0, 1, 2],\n",
       "       [0, 1, 2],\n",
       "       [0, 1, 2],\n",
       "       [0, 1, 2],\n",
       "       [0, 1, 2]])"
      ]
     },
     "execution_count": 159,
     "metadata": {},
     "output_type": "execute_result"
    }
   ],
   "source": [
    "xx"
   ]
  },
  {
   "cell_type": "code",
   "execution_count": 160,
   "id": "f461d5c0",
   "metadata": {},
   "outputs": [
    {
     "data": {
      "text/plain": [
       "array([[0, 0, 0],\n",
       "       [1, 1, 1],\n",
       "       [2, 2, 2],\n",
       "       [3, 3, 3],\n",
       "       [4, 4, 4]])"
      ]
     },
     "execution_count": 160,
     "metadata": {},
     "output_type": "execute_result"
    }
   ],
   "source": [
    "yy"
   ]
  },
  {
   "cell_type": "code",
   "execution_count": 164,
   "id": "44e687a1",
   "metadata": {},
   "outputs": [
    {
     "data": {
      "text/plain": [
       "[[(0, 0), (1, 0), (2, 0)],\n",
       " [(0, 1), (1, 1), (2, 1)],\n",
       " [(0, 2), (1, 2), (2, 2)],\n",
       " [(0, 3), (1, 3), (2, 3)],\n",
       " [(0, 4), (1, 4), (2, 4)]]"
      ]
     },
     "execution_count": 164,
     "metadata": {},
     "output_type": "execute_result"
    }
   ],
   "source": [
    "[list(zip(x,y)) for x,y in zip(xx,yy)] #x:[0, 1, 2], y:[0, 0, 0]"
   ]
  },
  {
   "cell_type": "code",
   "execution_count": 163,
   "id": "2438497d",
   "metadata": {
    "scrolled": true
   },
   "outputs": [
    {
     "name": "stdout",
     "output_type": "stream",
     "text": [
      "(array([0, 1, 2]), array([0, 0, 0]))\n",
      "(array([0, 1, 2]), array([1, 1, 1]))\n",
      "(array([0, 1, 2]), array([2, 2, 2]))\n",
      "(array([0, 1, 2]), array([3, 3, 3]))\n",
      "(array([0, 1, 2]), array([4, 4, 4]))\n"
     ]
    }
   ],
   "source": [
    "for p in zip(xx,yy):\n",
    "    print(p)"
   ]
  },
  {
   "cell_type": "code",
   "execution_count": 162,
   "id": "46280ab2",
   "metadata": {},
   "outputs": [
    {
     "name": "stdout",
     "output_type": "stream",
     "text": [
      "(1, 4)\n",
      "(2, 5)\n",
      "(3, 6)\n"
     ]
    }
   ],
   "source": [
    "n=[1,2,3]\n",
    "k=[4,5,6]\n",
    "# for p in zip(n,k):\n",
    "#     print(p)\n",
    "for i in range(3):\n",
    "    p=(n[i], k[i])\n",
    "    print(p)"
   ]
  },
  {
   "cell_type": "code",
   "execution_count": null,
   "id": "39ea9983",
   "metadata": {},
   "outputs": [],
   "source": []
  },
  {
   "cell_type": "code",
   "execution_count": 165,
   "id": "58dc30f4",
   "metadata": {},
   "outputs": [],
   "source": [
    "xarr=np.array([1.1, 1.2, 1.3, 1.4, 1.5])\n",
    "yarr=np.array([2.1, 2.2, 2.3, 2.4, 2.5])"
   ]
  },
  {
   "cell_type": "code",
   "execution_count": 166,
   "id": "3ce22a7b",
   "metadata": {},
   "outputs": [],
   "source": [
    "cond=np.array([True, False, True, True, False])"
   ]
  },
  {
   "cell_type": "code",
   "execution_count": 171,
   "id": "f9f4132b",
   "metadata": {},
   "outputs": [
    {
     "data": {
      "text/plain": [
       "[1.1, 2.2, 1.3, 1.4, 2.5]"
      ]
     },
     "execution_count": 171,
     "metadata": {},
     "output_type": "execute_result"
    }
   ],
   "source": [
    "[(x if z else y) for x,y,z in zip(xarr,yarr, cond)]"
   ]
  },
  {
   "cell_type": "code",
   "execution_count": 172,
   "id": "319616aa",
   "metadata": {},
   "outputs": [
    {
     "data": {
      "text/plain": [
       "array([1.1, 2.2, 1.3, 1.4, 2.5])"
      ]
     },
     "execution_count": 172,
     "metadata": {},
     "output_type": "execute_result"
    }
   ],
   "source": [
    "#np.where(조건, 참, 거짓)\n",
    "np.where(cond, xarr, yarr)"
   ]
  },
  {
   "cell_type": "code",
   "execution_count": null,
   "id": "1003d0f5",
   "metadata": {},
   "outputs": [],
   "source": []
  },
  {
   "cell_type": "code",
   "execution_count": 173,
   "id": "5f1af11c",
   "metadata": {},
   "outputs": [],
   "source": [
    "arr=np.random.randn(4,4)"
   ]
  },
  {
   "cell_type": "code",
   "execution_count": 175,
   "id": "864e3df3",
   "metadata": {},
   "outputs": [
    {
     "data": {
      "text/plain": [
       "array([[False, False, False, False],\n",
       "       [False, False, False, False],\n",
       "       [False, False, False, False],\n",
       "       [False,  True, False, False]])"
      ]
     },
     "execution_count": 175,
     "metadata": {},
     "output_type": "execute_result"
    }
   ],
   "source": [
    "arr\n",
    "arr>1"
   ]
  },
  {
   "cell_type": "code",
   "execution_count": 177,
   "id": "5b74fd45",
   "metadata": {},
   "outputs": [
    {
     "data": {
      "text/plain": [
       "array([1.30195244])"
      ]
     },
     "execution_count": 177,
     "metadata": {},
     "output_type": "execute_result"
    }
   ],
   "source": [
    "arr[arr>1]"
   ]
  },
  {
   "cell_type": "code",
   "execution_count": 180,
   "id": "f978a0a8",
   "metadata": {},
   "outputs": [
    {
     "data": {
      "text/plain": [
       "array([[ 1.        , -0.00793893,  1.        , -0.47527805],\n",
       "       [-0.21985459, -0.91746287,  1.        ,  1.        ],\n",
       "       [-0.55336666, -0.97814524,  1.        , -1.25843346],\n",
       "       [-0.28277648,  1.        , -0.241768  , -1.45960041]])"
      ]
     },
     "execution_count": 180,
     "metadata": {},
     "output_type": "execute_result"
    }
   ],
   "source": [
    "arr\n",
    "np.where(arr>0,1,0)\n",
    "np.where(arr>0,1,arr)"
   ]
  },
  {
   "cell_type": "code",
   "execution_count": 181,
   "id": "ab533b56",
   "metadata": {},
   "outputs": [],
   "source": [
    "np.random.seed(123)"
   ]
  },
  {
   "cell_type": "code",
   "execution_count": 182,
   "id": "b1e66dd7",
   "metadata": {},
   "outputs": [
    {
     "data": {
      "text/plain": [
       "array([[-1.0856306 ,  0.99734545,  0.2829785 , -1.50629471],\n",
       "       [-0.57860025,  1.65143654, -2.42667924, -0.42891263],\n",
       "       [ 1.26593626, -0.8667404 , -0.67888615, -0.09470897],\n",
       "       [ 1.49138963, -0.638902  , -0.44398196, -0.43435128],\n",
       "       [ 2.20593008,  2.18678609,  1.0040539 ,  0.3861864 ]])"
      ]
     },
     "execution_count": 182,
     "metadata": {},
     "output_type": "execute_result"
    }
   ],
   "source": [
    "arr=np.random.randn(5,4)\n",
    "arr"
   ]
  },
  {
   "cell_type": "code",
   "execution_count": 186,
   "id": "123a9033",
   "metadata": {},
   "outputs": [
    {
     "data": {
      "text/plain": [
       "array([[-1.0856306 ,  0.99734545,  0.2829785 , -1.50629471],\n",
       "       [-0.57860025,  1.65143654, -2.42667924, -0.42891263],\n",
       "       [ 1.26593626, -0.8667404 , -0.67888615, -0.09470897],\n",
       "       [ 1.49138963, -0.638902  , -0.44398196, -0.43435128],\n",
       "       [ 2.20593008,  2.18678609,  1.0040539 ,  0.3861864 ]])"
      ]
     },
     "execution_count": 186,
     "metadata": {},
     "output_type": "execute_result"
    }
   ],
   "source": [
    "arr.mean() #np.mean(arr)\n",
    "arr"
   ]
  },
  {
   "cell_type": "code",
   "execution_count": 188,
   "id": "a5ab6b06",
   "metadata": {},
   "outputs": [
    {
     "data": {
      "text/plain": [
       "array([ 0.65980502,  0.66598513, -0.45250299, -0.41561624])"
      ]
     },
     "execution_count": 188,
     "metadata": {},
     "output_type": "execute_result"
    }
   ],
   "source": [
    "#각 행에 대한 데이터의 평균 or 합계, 열 방향으로 이동해 가면서 평균/합계 구해야 함\n",
    "arr.mean(axis=1)\n",
    "arr.mean(axis=0)"
   ]
  },
  {
   "cell_type": "code",
   "execution_count": 191,
   "id": "b382d978",
   "metadata": {},
   "outputs": [
    {
     "data": {
      "text/plain": [
       "array([   1,    2,    6,   24,  120,  720, 5040], dtype=int32)"
      ]
     },
     "execution_count": 191,
     "metadata": {},
     "output_type": "execute_result"
    }
   ],
   "source": [
    "arr=np.arange(1,8)\n",
    "arr.cumsum() #누적합\n",
    "arr.cumprod() #누적곱(팩터리얼), 7!"
   ]
  },
  {
   "cell_type": "code",
   "execution_count": 192,
   "id": "e470eaec",
   "metadata": {},
   "outputs": [
    {
     "data": {
      "text/plain": [
       "array([[1, 2, 3],\n",
       "       [4, 5, 6],\n",
       "       [7, 8, 9]])"
      ]
     },
     "execution_count": 192,
     "metadata": {},
     "output_type": "execute_result"
    }
   ],
   "source": [
    "arr=np.arange(1,10).reshape(3,3)\n",
    "arr"
   ]
  },
  {
   "cell_type": "code",
   "execution_count": 195,
   "id": "aa07e192",
   "metadata": {},
   "outputs": [
    {
     "data": {
      "text/plain": [
       "array([[ 1,  2,  3],\n",
       "       [ 5,  7,  9],\n",
       "       [12, 15, 18]], dtype=int32)"
      ]
     },
     "execution_count": 195,
     "metadata": {},
     "output_type": "execute_result"
    }
   ],
   "source": [
    "arr.cumsum() #전체 데이터의 누적합\n",
    "arr.cumsum(axis=1) #열 방향으로 이동해가면서 누적합(좌->우)\n",
    "arr.cumsum(axis=0) #행            \"         \"      (위->아래)"
   ]
  },
  {
   "cell_type": "code",
   "execution_count": 198,
   "id": "82ceb688",
   "metadata": {},
   "outputs": [
    {
     "data": {
      "text/plain": [
       "2.581988897471611"
      ]
     },
     "execution_count": 198,
     "metadata": {},
     "output_type": "execute_result"
    }
   ],
   "source": [
    "arr.mean()\n",
    "arr.var() #분산\n",
    "arr.std() #표준편차(분산의 제곱근)"
   ]
  },
  {
   "cell_type": "code",
   "execution_count": 200,
   "id": "6ac16370",
   "metadata": {},
   "outputs": [
    {
     "data": {
      "text/plain": [
       "array([[1, 2, 3],\n",
       "       [4, 5, 6],\n",
       "       [7, 8, 9]])"
      ]
     },
     "execution_count": 200,
     "metadata": {},
     "output_type": "execute_result"
    }
   ],
   "source": [
    "arr  #5보다 큰 수의 개수, 5보다 큰 수의 합 출력"
   ]
  },
  {
   "cell_type": "code",
   "execution_count": 203,
   "id": "85a7ca35",
   "metadata": {},
   "outputs": [
    {
     "data": {
      "text/plain": [
       "30"
      ]
     },
     "execution_count": 203,
     "metadata": {},
     "output_type": "execute_result"
    }
   ],
   "source": [
    "arr[arr>5].sum()"
   ]
  },
  {
   "cell_type": "code",
   "execution_count": 213,
   "id": "1d0715f0",
   "metadata": {},
   "outputs": [
    {
     "data": {
      "text/plain": [
       "4"
      ]
     },
     "execution_count": 213,
     "metadata": {},
     "output_type": "execute_result"
    }
   ],
   "source": [
    "#sum(sum(arr>5))\n",
    "#sum(arr[arr>5])\n",
    "arr[arr>5].sum()\n",
    "len(arr[arr>5])\n"
   ]
  },
  {
   "cell_type": "code",
   "execution_count": 216,
   "id": "05799af0",
   "metadata": {},
   "outputs": [
    {
     "data": {
      "text/plain": [
       "4"
      ]
     },
     "execution_count": 216,
     "metadata": {},
     "output_type": "execute_result"
    }
   ],
   "source": [
    "(arr>5).sum() #False=0, True=1"
   ]
  },
  {
   "cell_type": "code",
   "execution_count": 218,
   "id": "d4d3410a",
   "metadata": {},
   "outputs": [],
   "source": [
    "arr\n",
    "arr=np.where(arr>5, True, False)"
   ]
  },
  {
   "cell_type": "code",
   "execution_count": 219,
   "id": "a2dc3017",
   "metadata": {},
   "outputs": [
    {
     "data": {
      "text/plain": [
       "array([[False, False, False],\n",
       "       [False, False,  True],\n",
       "       [ True,  True,  True]])"
      ]
     },
     "execution_count": 219,
     "metadata": {},
     "output_type": "execute_result"
    }
   ],
   "source": [
    "arr"
   ]
  },
  {
   "cell_type": "code",
   "execution_count": 221,
   "id": "0b187c48",
   "metadata": {},
   "outputs": [
    {
     "data": {
      "text/plain": [
       "False"
      ]
     },
     "execution_count": 221,
     "metadata": {},
     "output_type": "execute_result"
    }
   ],
   "source": [
    "arr.any() #하나이상 true -> true\n",
    "arr.all()"
   ]
  },
  {
   "cell_type": "code",
   "execution_count": 222,
   "id": "ba2791b9",
   "metadata": {},
   "outputs": [],
   "source": [
    "arr=np.random.randn(6)\n",
    "arr.sort()"
   ]
  },
  {
   "cell_type": "code",
   "execution_count": 223,
   "id": "92c311c2",
   "metadata": {},
   "outputs": [
    {
     "data": {
      "text/plain": [
       "array([-1.25388067, -0.93583387, -0.6377515 ,  0.73736858,  1.17582904,\n",
       "        1.49073203])"
      ]
     },
     "execution_count": 223,
     "metadata": {},
     "output_type": "execute_result"
    }
   ],
   "source": [
    "arr"
   ]
  },
  {
   "cell_type": "code",
   "execution_count": 224,
   "id": "fa1b43c5",
   "metadata": {},
   "outputs": [
    {
     "data": {
      "text/plain": [
       "array([[ 0.9071052 , -1.4286807 , -0.14006872],\n",
       "       [-0.8617549 , -0.25561937, -2.79858911],\n",
       "       [-1.7715331 , -0.69987723,  0.92746243],\n",
       "       [-0.17363568,  0.00284592,  0.68822271],\n",
       "       [-0.87953634,  0.28362732, -0.80536652]])"
      ]
     },
     "execution_count": 224,
     "metadata": {},
     "output_type": "execute_result"
    }
   ],
   "source": [
    "arr=np.random.randn(5,3)\n",
    "arr"
   ]
  },
  {
   "cell_type": "code",
   "execution_count": 225,
   "id": "d4e0417d",
   "metadata": {},
   "outputs": [
    {
     "data": {
      "text/plain": [
       "array([[-1.4286807 , -0.14006872,  0.9071052 ],\n",
       "       [-2.79858911, -0.8617549 , -0.25561937],\n",
       "       [-1.7715331 , -0.69987723,  0.92746243],\n",
       "       [-0.17363568,  0.00284592,  0.68822271],\n",
       "       [-0.87953634, -0.80536652,  0.28362732]])"
      ]
     },
     "execution_count": 225,
     "metadata": {},
     "output_type": "execute_result"
    }
   ],
   "source": [
    "arr.sort() #오름차순정렬(열방향, axis=1, default), 행방향(axis=0)\n",
    "arr"
   ]
  },
  {
   "cell_type": "code",
   "execution_count": 226,
   "id": "259c8f1d",
   "metadata": {},
   "outputs": [
    {
     "data": {
      "text/plain": [
       "array([[-1.4286807 , -0.14006872,  0.9071052 ],\n",
       "       [-2.79858911, -0.8617549 , -0.25561937],\n",
       "       [-1.7715331 , -0.69987723,  0.92746243],\n",
       "       [-0.17363568,  0.00284592,  0.68822271],\n",
       "       [-0.87953634, -0.80536652,  0.28362732]])"
      ]
     },
     "execution_count": 226,
     "metadata": {},
     "output_type": "execute_result"
    }
   ],
   "source": [
    "arr"
   ]
  },
  {
   "cell_type": "code",
   "execution_count": 227,
   "id": "41d3c9e9",
   "metadata": {},
   "outputs": [],
   "source": [
    "arr.sort(axis=0)"
   ]
  },
  {
   "cell_type": "code",
   "execution_count": 228,
   "id": "6f0954ae",
   "metadata": {},
   "outputs": [
    {
     "data": {
      "text/plain": [
       "array([[-2.79858911, -0.8617549 , -0.25561937],\n",
       "       [-1.7715331 , -0.80536652,  0.28362732],\n",
       "       [-1.4286807 , -0.69987723,  0.68822271],\n",
       "       [-0.87953634, -0.14006872,  0.9071052 ],\n",
       "       [-0.17363568,  0.00284592,  0.92746243]])"
      ]
     },
     "execution_count": 228,
     "metadata": {},
     "output_type": "execute_result"
    }
   ],
   "source": [
    "arr"
   ]
  },
  {
   "cell_type": "code",
   "execution_count": 229,
   "id": "02da667e",
   "metadata": {},
   "outputs": [],
   "source": [
    "#넘파이는 오름차순 정렬은 함수가 있지만, 내림차순 정렬은 없음"
   ]
  },
  {
   "cell_type": "code",
   "execution_count": 230,
   "id": "78527513",
   "metadata": {},
   "outputs": [
    {
     "data": {
      "text/plain": [
       "array([[-2.79858911, -0.8617549 , -0.25561937],\n",
       "       [-1.7715331 , -0.80536652,  0.28362732],\n",
       "       [-1.4286807 , -0.69987723,  0.68822271],\n",
       "       [-0.87953634, -0.14006872,  0.9071052 ],\n",
       "       [-0.17363568,  0.00284592,  0.92746243]])"
      ]
     },
     "execution_count": 230,
     "metadata": {},
     "output_type": "execute_result"
    }
   ],
   "source": [
    "arr"
   ]
  },
  {
   "cell_type": "code",
   "execution_count": 231,
   "id": "84790b1b",
   "metadata": {},
   "outputs": [
    {
     "data": {
      "text/plain": [
       "array([[-0.17363568,  0.00284592,  0.92746243],\n",
       "       [-0.87953634, -0.14006872,  0.9071052 ],\n",
       "       [-1.4286807 , -0.69987723,  0.68822271],\n",
       "       [-1.7715331 , -0.80536652,  0.28362732],\n",
       "       [-2.79858911, -0.8617549 , -0.25561937]])"
      ]
     },
     "execution_count": 231,
     "metadata": {},
     "output_type": "execute_result"
    }
   ],
   "source": [
    "arr[::-1] #내림차순정렬(오름차순 결과에 대해 뒤에서부터 참조)"
   ]
  },
  {
   "cell_type": "code",
   "execution_count": 232,
   "id": "256fc216",
   "metadata": {},
   "outputs": [
    {
     "data": {
      "text/plain": [
       "array(['Bob', 'Joe', 'Will', 'Bob', 'Joe', 'Will'], dtype='<U4')"
      ]
     },
     "execution_count": 232,
     "metadata": {},
     "output_type": "execute_result"
    }
   ],
   "source": [
    "names"
   ]
  },
  {
   "cell_type": "code",
   "execution_count": 235,
   "id": "a641214e",
   "metadata": {},
   "outputs": [
    {
     "data": {
      "text/plain": [
       "array(['Bob', 'Joe', 'Will'], dtype='<U4')"
      ]
     },
     "execution_count": 235,
     "metadata": {},
     "output_type": "execute_result"
    }
   ],
   "source": [
    "#유일한 이름만 출력\n",
    "np.array(list(set(names)))\n",
    "np.unique(names) #자동정렬"
   ]
  },
  {
   "cell_type": "code",
   "execution_count": 240,
   "id": "2782e71e",
   "metadata": {},
   "outputs": [
    {
     "data": {
      "text/plain": [
       "['Bob', 'Joe', 'Will']"
      ]
     },
     "execution_count": 240,
     "metadata": {},
     "output_type": "execute_result"
    }
   ],
   "source": [
    "sorted(set(names))"
   ]
  },
  {
   "cell_type": "code",
   "execution_count": 241,
   "id": "b7ca102e",
   "metadata": {},
   "outputs": [],
   "source": [
    "arr=np.array([6,0,0,3,2,5])"
   ]
  },
  {
   "cell_type": "code",
   "execution_count": 243,
   "id": "1c9cda67",
   "metadata": {},
   "outputs": [
    {
     "data": {
      "text/plain": [
       "array([ True, False, False,  True,  True, False])"
      ]
     },
     "execution_count": 243,
     "metadata": {},
     "output_type": "execute_result"
    }
   ],
   "source": [
    "[2,3,6] #arr의 각 원소가 2또는 3또는 6인지 조사 -> True/False\n",
    "np.in1d(arr,[2,3,6])"
   ]
  },
  {
   "cell_type": "code",
   "execution_count": 244,
   "id": "b93235a5",
   "metadata": {},
   "outputs": [
    {
     "data": {
      "text/plain": [
       "array([6, 3, 2])"
      ]
     },
     "execution_count": 244,
     "metadata": {},
     "output_type": "execute_result"
    }
   ],
   "source": [
    "arr[np.in1d(arr,[2,3,6])]"
   ]
  },
  {
   "cell_type": "code",
   "execution_count": 246,
   "id": "65adb789",
   "metadata": {},
   "outputs": [],
   "source": [
    "a=np.array([1,2,3])\n",
    "b=np.array([10,20,30])"
   ]
  },
  {
   "cell_type": "code",
   "execution_count": 248,
   "id": "927cdf6f",
   "metadata": {},
   "outputs": [
    {
     "data": {
      "text/plain": [
       "array([False,  True, False])"
      ]
     },
     "execution_count": 248,
     "metadata": {},
     "output_type": "execute_result"
    }
   ],
   "source": [
    "#a가 2이면서 b가 10보다 크면 True, 아니면 False출력\n",
    "np.where((a==2)&(b>10), True, False )\n",
    "(a==2)&(b>10)"
   ]
  },
  {
   "cell_type": "code",
   "execution_count": 251,
   "id": "3c0e807c",
   "metadata": {},
   "outputs": [
    {
     "data": {
      "text/plain": [
       "array([False,  True, False])"
      ]
     },
     "execution_count": 251,
     "metadata": {},
     "output_type": "execute_result"
    }
   ],
   "source": [
    "(a==2)&(b>10)"
   ]
  },
  {
   "cell_type": "code",
   "execution_count": 252,
   "id": "fa304ea6",
   "metadata": {},
   "outputs": [
    {
     "data": {
      "text/plain": [
       "array([[0, 1, 2],\n",
       "       [3, 4, 5]])"
      ]
     },
     "execution_count": 252,
     "metadata": {},
     "output_type": "execute_result"
    }
   ],
   "source": [
    "a=np.arange(6).reshape(2,3)\n",
    "a"
   ]
  },
  {
   "cell_type": "code",
   "execution_count": null,
   "id": "5986ad05",
   "metadata": {},
   "outputs": [],
   "source": [
    "#행의 개수, 열의 개수 출력"
   ]
  },
  {
   "cell_type": "code",
   "execution_count": 255,
   "id": "8f4d05c6",
   "metadata": {},
   "outputs": [
    {
     "data": {
      "text/plain": [
       "3"
      ]
     },
     "execution_count": 255,
     "metadata": {},
     "output_type": "execute_result"
    }
   ],
   "source": [
    "a.shape\n",
    "a.shape[0]\n",
    "a.shape[1]"
   ]
  },
  {
   "cell_type": "code",
   "execution_count": 256,
   "id": "52f17d3c",
   "metadata": {},
   "outputs": [],
   "source": [
    "a=np.ones((2,3))\n",
    "b=np.zeros((2,2))"
   ]
  },
  {
   "cell_type": "code",
   "execution_count": 257,
   "id": "d70642d5",
   "metadata": {},
   "outputs": [
    {
     "data": {
      "text/plain": [
       "array([[1., 1., 1.],\n",
       "       [1., 1., 1.]])"
      ]
     },
     "execution_count": 257,
     "metadata": {},
     "output_type": "execute_result"
    }
   ],
   "source": [
    "a"
   ]
  },
  {
   "cell_type": "code",
   "execution_count": 258,
   "id": "9b9702c5",
   "metadata": {},
   "outputs": [
    {
     "data": {
      "text/plain": [
       "array([[0., 0.],\n",
       "       [0., 0.]])"
      ]
     },
     "execution_count": 258,
     "metadata": {},
     "output_type": "execute_result"
    }
   ],
   "source": [
    "b"
   ]
  },
  {
   "cell_type": "code",
   "execution_count": 259,
   "id": "fecb646a",
   "metadata": {},
   "outputs": [
    {
     "data": {
      "text/plain": [
       "array([[1., 1., 1., 0., 0.],\n",
       "       [1., 1., 1., 0., 0.]])"
      ]
     },
     "execution_count": 259,
     "metadata": {},
     "output_type": "execute_result"
    }
   ],
   "source": [
    "np.hstack([a,b]) #horizontal(좌우 연결, 행의 개수 동일)"
   ]
  },
  {
   "cell_type": "code",
   "execution_count": 261,
   "id": "ac3888f1",
   "metadata": {},
   "outputs": [
    {
     "data": {
      "text/plain": [
       "array([[1., 1., 1.],\n",
       "       [1., 1., 1.],\n",
       "       [0., 0., 0.],\n",
       "       [0., 0., 0.]])"
      ]
     },
     "execution_count": 261,
     "metadata": {},
     "output_type": "execute_result"
    }
   ],
   "source": [
    "#np.vstack([a,b]) #vertical, 에러발생:열의 개수 동일\n",
    "b=np.zeros((2,3))\n",
    "np.vstack([a,b])"
   ]
  },
  {
   "cell_type": "code",
   "execution_count": 262,
   "id": "bb9223af",
   "metadata": {},
   "outputs": [],
   "source": [
    "a=np.arange(6).reshape(2,3)"
   ]
  },
  {
   "cell_type": "code",
   "execution_count": 264,
   "id": "ce55d244",
   "metadata": {},
   "outputs": [
    {
     "data": {
      "text/plain": [
       "array([[0, 1, 2, 0, 1, 2],\n",
       "       [3, 4, 5, 3, 4, 5],\n",
       "       [0, 1, 2, 0, 1, 2],\n",
       "       [3, 4, 5, 3, 4, 5],\n",
       "       [0, 1, 2, 0, 1, 2],\n",
       "       [3, 4, 5, 3, 4, 5]])"
      ]
     },
     "execution_count": 264,
     "metadata": {},
     "output_type": "execute_result"
    }
   ],
   "source": [
    "np.tile(a,2) #동일한 배열을 반복하여 연결, 좌우 방향으로 2번연결\n",
    "np.tile(a,(3,2))#동일한 배열을 반복하여 연결, 위아래 3번, 좌우 방향으로 2번연결"
   ]
  },
  {
   "cell_type": "code",
   "execution_count": 266,
   "id": "2aa223c1",
   "metadata": {},
   "outputs": [],
   "source": [
    "ret=np.unique([1,1,3,3,5])"
   ]
  },
  {
   "cell_type": "code",
   "execution_count": 269,
   "id": "c0e647ac",
   "metadata": {},
   "outputs": [
    {
     "data": {
      "text/plain": [
       "array([1, 3, 5])"
      ]
     },
     "execution_count": 269,
     "metadata": {},
     "output_type": "execute_result"
    }
   ],
   "source": [
    "ret[0]\n",
    "ret"
   ]
  },
  {
   "cell_type": "code",
   "execution_count": 270,
   "id": "a98f4e03",
   "metadata": {},
   "outputs": [
    {
     "data": {
      "text/plain": [
       "(array([1, 3, 5]), array([2, 2, 1], dtype=int64))"
      ]
     },
     "execution_count": 270,
     "metadata": {},
     "output_type": "execute_result"
    }
   ],
   "source": [
    "ret=np.unique([1,1,3,3,5], return_counts=True)\n",
    "ret"
   ]
  },
  {
   "cell_type": "code",
   "execution_count": 271,
   "id": "f44b85cb",
   "metadata": {},
   "outputs": [
    {
     "data": {
      "text/plain": [
       "array([1, 3, 5])"
      ]
     },
     "execution_count": 271,
     "metadata": {},
     "output_type": "execute_result"
    }
   ],
   "source": [
    "ret[0]"
   ]
  },
  {
   "cell_type": "code",
   "execution_count": 272,
   "id": "6f0a6f27",
   "metadata": {},
   "outputs": [
    {
     "data": {
      "text/plain": [
       "array([2, 2, 1], dtype=int64)"
      ]
     },
     "execution_count": 272,
     "metadata": {},
     "output_type": "execute_result"
    }
   ],
   "source": [
    "ret[1]"
   ]
  },
  {
   "cell_type": "code",
   "execution_count": null,
   "id": "5ee0ede5",
   "metadata": {},
   "outputs": [],
   "source": [
    "# 브로드캐스팅:크기가 서로 다른 배열간에 연산이 가능하도록, 크기가 작은 배열을 반복해서 확장하여\n",
    "# 크기가 큰 배열과 크기를 맞추고 난 다음 연산을 수행"
   ]
  },
  {
   "cell_type": "code",
   "execution_count": 273,
   "id": "4ceac427",
   "metadata": {},
   "outputs": [
    {
     "data": {
      "text/plain": [
       "array([6, 7, 8])"
      ]
     },
     "execution_count": 273,
     "metadata": {},
     "output_type": "execute_result"
    }
   ],
   "source": [
    "np.array([1,2,3])+5 #5 -> [5,5,5]"
   ]
  },
  {
   "cell_type": "code",
   "execution_count": 274,
   "id": "09e41929",
   "metadata": {},
   "outputs": [],
   "source": [
    "x=np.array([1,2,3])"
   ]
  },
  {
   "cell_type": "code",
   "execution_count": 276,
   "id": "a452531e",
   "metadata": {},
   "outputs": [
    {
     "data": {
      "text/plain": [
       "array([5, 5, 5])"
      ]
     },
     "execution_count": 276,
     "metadata": {},
     "output_type": "execute_result"
    }
   ],
   "source": [
    "np.ones_like(x)*5"
   ]
  },
  {
   "cell_type": "code",
   "execution_count": 277,
   "id": "a68656f6",
   "metadata": {},
   "outputs": [
    {
     "data": {
      "text/plain": [
       "array([6, 7, 8])"
      ]
     },
     "execution_count": 277,
     "metadata": {},
     "output_type": "execute_result"
    }
   ],
   "source": [
    "x+np.ones_like(x)*5 #np.array([1,2,3])+5"
   ]
  },
  {
   "cell_type": "code",
   "execution_count": 278,
   "id": "54a7c031",
   "metadata": {},
   "outputs": [
    {
     "data": {
      "text/plain": [
       "array([1, 2, 3])"
      ]
     },
     "execution_count": 278,
     "metadata": {},
     "output_type": "execute_result"
    }
   ],
   "source": [
    "x"
   ]
  },
  {
   "cell_type": "code",
   "execution_count": 281,
   "id": "886b2733",
   "metadata": {},
   "outputs": [],
   "source": [
    "np.random.shuffle(x)"
   ]
  },
  {
   "cell_type": "code",
   "execution_count": 282,
   "id": "05642470",
   "metadata": {},
   "outputs": [
    {
     "data": {
      "text/plain": [
       "array([1, 3, 2])"
      ]
     },
     "execution_count": 282,
     "metadata": {},
     "output_type": "execute_result"
    }
   ],
   "source": [
    "x"
   ]
  },
  {
   "cell_type": "code",
   "execution_count": 283,
   "id": "6b57d04a",
   "metadata": {},
   "outputs": [],
   "source": [
    "#판다스:데이터분석, 구조:시리즈, 데이터프레임\n",
    "#시계열, 표"
   ]
  },
  {
   "cell_type": "code",
   "execution_count": 284,
   "id": "503524c5",
   "metadata": {},
   "outputs": [],
   "source": [
    "import pandas as pd"
   ]
  },
  {
   "cell_type": "code",
   "execution_count": null,
   "id": "554fbad8",
   "metadata": {},
   "outputs": [],
   "source": [
    "#시리즈? 1차원 배열와 거의 유사, 차이점:시리즈에는 데이터에 index가 붙어있다\n",
    "# 1차원배열:데이터가 나열된 구조\n",
    "# 시리즈:index가 있는 데이터가 나열된 구조, 데이터를 리스트나 배열에 넣고나서 시리즈함수에 전달해주면 생성됨"
   ]
  },
  {
   "cell_type": "code",
   "execution_count": 287,
   "id": "d3d537bc",
   "metadata": {},
   "outputs": [
    {
     "data": {
      "text/plain": [
       "0    10\n",
       "1    11\n",
       "2    12\n",
       "3    13\n",
       "dtype: int64"
      ]
     },
     "execution_count": 287,
     "metadata": {},
     "output_type": "execute_result"
    }
   ],
   "source": [
    "pd.Series([1000, 300, 150, 200])\n",
    "pd.Series(range(10,14))"
   ]
  },
  {
   "cell_type": "code",
   "execution_count": 286,
   "id": "73f3fcf6",
   "metadata": {},
   "outputs": [
    {
     "data": {
      "text/plain": [
       "서울    1000\n",
       "부산     300\n",
       "인천     150\n",
       "대구     200\n",
       "dtype: int64"
      ]
     },
     "execution_count": 286,
     "metadata": {},
     "output_type": "execute_result"
    }
   ],
   "source": [
    "s=pd.Series([1000, 300, 150, 200], \n",
    "            index=['서울','부산','인천','대구']) #문자숫자 모두 가능\n",
    "s"
   ]
  },
  {
   "cell_type": "code",
   "execution_count": 288,
   "id": "ef72e114",
   "metadata": {},
   "outputs": [
    {
     "data": {
      "text/plain": [
       "Index(['서울', '부산', '인천', '대구'], dtype='object')"
      ]
     },
     "execution_count": 288,
     "metadata": {},
     "output_type": "execute_result"
    }
   ],
   "source": [
    "s.index #시리즈의 인덱스 접근"
   ]
  },
  {
   "cell_type": "code",
   "execution_count": 289,
   "id": "b76056ab",
   "metadata": {},
   "outputs": [
    {
     "data": {
      "text/plain": [
       "array([1000,  300,  150,  200], dtype=int64)"
      ]
     },
     "execution_count": 289,
     "metadata": {},
     "output_type": "execute_result"
    }
   ],
   "source": [
    "s.values#시리즈의 데이터 추출"
   ]
  },
  {
   "cell_type": "code",
   "execution_count": 290,
   "id": "b1966cef",
   "metadata": {},
   "outputs": [
    {
     "data": {
      "text/plain": [
       "서울    1000\n",
       "부산     300\n",
       "인천     150\n",
       "대구     200\n",
       "dtype: int64"
      ]
     },
     "execution_count": 290,
     "metadata": {},
     "output_type": "execute_result"
    }
   ],
   "source": [
    "s"
   ]
  },
  {
   "cell_type": "code",
   "execution_count": 291,
   "id": "442ed8a5",
   "metadata": {},
   "outputs": [],
   "source": [
    "s.name=\"인구데이터\"#시리즈 데이터에 대한 이름 부여"
   ]
  },
  {
   "cell_type": "code",
   "execution_count": 292,
   "id": "63efae9e",
   "metadata": {},
   "outputs": [
    {
     "data": {
      "text/plain": [
       "서울    1000\n",
       "부산     300\n",
       "인천     150\n",
       "대구     200\n",
       "Name: 인구데이터, dtype: int64"
      ]
     },
     "execution_count": 292,
     "metadata": {},
     "output_type": "execute_result"
    }
   ],
   "source": [
    "s"
   ]
  },
  {
   "cell_type": "code",
   "execution_count": 294,
   "id": "22e94136",
   "metadata": {},
   "outputs": [],
   "source": [
    "s.index.name=\"도시명\""
   ]
  },
  {
   "cell_type": "code",
   "execution_count": 295,
   "id": "a25c7b93",
   "metadata": {},
   "outputs": [
    {
     "data": {
      "text/plain": [
       "도시명\n",
       "서울    1000\n",
       "부산     300\n",
       "인천     150\n",
       "대구     200\n",
       "Name: 인구데이터, dtype: int64"
      ]
     },
     "execution_count": 295,
     "metadata": {},
     "output_type": "execute_result"
    }
   ],
   "source": [
    "s"
   ]
  },
  {
   "cell_type": "code",
   "execution_count": 297,
   "id": "b5662b55",
   "metadata": {},
   "outputs": [
    {
     "data": {
      "text/plain": [
       "도시명\n",
       "서울    1.00\n",
       "부산    0.30\n",
       "인천    0.15\n",
       "대구    0.20\n",
       "Name: 인구데이터, dtype: float64"
      ]
     },
     "execution_count": 297,
     "metadata": {},
     "output_type": "execute_result"
    }
   ],
   "source": [
    "#시리즈 연산:넘파이 배열처럼 벡터화 연산을 수행\n",
    "s/1000"
   ]
  },
  {
   "cell_type": "code",
   "execution_count": 301,
   "id": "95fd0177",
   "metadata": {},
   "outputs": [
    {
     "data": {
      "text/plain": [
       "300"
      ]
     },
     "execution_count": 301,
     "metadata": {},
     "output_type": "execute_result"
    }
   ],
   "source": [
    "s['부산']\n",
    "s[1]"
   ]
  },
  {
   "cell_type": "code",
   "execution_count": 300,
   "id": "16df9146",
   "metadata": {},
   "outputs": [
    {
     "data": {
      "text/plain": [
       "도시명\n",
       "서울    1000\n",
       "부산     300\n",
       "인천     150\n",
       "대구     200\n",
       "Name: 인구데이터, dtype: int64"
      ]
     },
     "execution_count": 300,
     "metadata": {},
     "output_type": "execute_result"
    }
   ],
   "source": [
    "s\n",
    "#눈에는 보이지 않지만, 내부적으로 시리즈에는 절대 index(0번부터 시작하여 번호가 부여)가 존재.\n",
    "#ex) 서울 index는 절대 index가 0"
   ]
  },
  {
   "cell_type": "code",
   "execution_count": 306,
   "id": "ec2211bc",
   "metadata": {},
   "outputs": [
    {
     "data": {
      "text/plain": [
       "도시명\n",
       "부산     300\n",
       "대구     200\n",
       "서울    1000\n",
       "Name: 인구데이터, dtype: int64"
      ]
     },
     "execution_count": 306,
     "metadata": {},
     "output_type": "execute_result"
    }
   ],
   "source": [
    "s[[1, 3, 0]] #절대 index\n",
    "s[['부산','대구','서울']]"
   ]
  },
  {
   "cell_type": "code",
   "execution_count": 308,
   "id": "78db77be",
   "metadata": {},
   "outputs": [
    {
     "data": {
      "text/plain": [
       "도시명\n",
       "부산    300\n",
       "대구    200\n",
       "Name: 인구데이터, dtype: int64"
      ]
     },
     "execution_count": 308,
     "metadata": {},
     "output_type": "execute_result"
    }
   ],
   "source": [
    "#인구가 150만 초과, 300만 이하인 데이터 출력\n",
    "s[(s>150) & (s<=300)]\n",
    "s[(s.values>150)&(s.values<=300)]\n"
   ]
  },
  {
   "cell_type": "code",
   "execution_count": 309,
   "id": "1f5d9857",
   "metadata": {},
   "outputs": [
    {
     "data": {
      "text/plain": [
       "도시명\n",
       "서울    1000\n",
       "부산     300\n",
       "인천     150\n",
       "대구     200\n",
       "Name: 인구데이터, dtype: int64"
      ]
     },
     "execution_count": 309,
     "metadata": {},
     "output_type": "execute_result"
    }
   ],
   "source": [
    "s"
   ]
  },
  {
   "cell_type": "code",
   "execution_count": 312,
   "id": "01af6dff",
   "metadata": {},
   "outputs": [
    {
     "data": {
      "text/plain": [
       "도시명\n",
       "부산    300\n",
       "인천    150\n",
       "대구    200\n",
       "Name: 인구데이터, dtype: int64"
      ]
     },
     "execution_count": 312,
     "metadata": {},
     "output_type": "execute_result"
    }
   ],
   "source": [
    "s[1]\n",
    "s[1:3]#1번과 2번까지 참조, 3번은 불포함\n",
    "s['부산':'대구']#대구까지도 포함되어 참조"
   ]
  },
  {
   "cell_type": "code",
   "execution_count": 314,
   "id": "d2d5828c",
   "metadata": {},
   "outputs": [
    {
     "data": {
      "text/plain": [
       "300"
      ]
     },
     "execution_count": 314,
     "metadata": {},
     "output_type": "execute_result"
    }
   ],
   "source": [
    "s.부산 #점찍고 접근 가능, 시리즈명.인덱스명"
   ]
  },
  {
   "cell_type": "code",
   "execution_count": 315,
   "id": "63d9e414",
   "metadata": {},
   "outputs": [
    {
     "data": {
      "text/plain": [
       "도시명\n",
       "서울    1000\n",
       "부산     300\n",
       "인천     150\n",
       "대구     200\n",
       "Name: 인구데이터, dtype: int64"
      ]
     },
     "execution_count": 315,
     "metadata": {},
     "output_type": "execute_result"
    }
   ],
   "source": [
    "s #in연산자 : 특정 인덱스에 해당되는 자료가 존재?"
   ]
  },
  {
   "cell_type": "code",
   "execution_count": 317,
   "id": "2fc6f28e",
   "metadata": {},
   "outputs": [
    {
     "data": {
      "text/plain": [
       "False"
      ]
     },
     "execution_count": 317,
     "metadata": {},
     "output_type": "execute_result"
    }
   ],
   "source": [
    "'광주' in s"
   ]
  },
  {
   "cell_type": "code",
   "execution_count": 318,
   "id": "be03f4d9",
   "metadata": {},
   "outputs": [],
   "source": [
    "d={'국어':90,'영어':100,'수학':95}"
   ]
  },
  {
   "cell_type": "code",
   "execution_count": 319,
   "id": "2bf85acf",
   "metadata": {},
   "outputs": [
    {
     "data": {
      "text/plain": [
       "{'국어': 90, '영어': 100, '수학': 95}"
      ]
     },
     "execution_count": 319,
     "metadata": {},
     "output_type": "execute_result"
    }
   ],
   "source": [
    "d"
   ]
  },
  {
   "cell_type": "code",
   "execution_count": 320,
   "id": "ff945ef2",
   "metadata": {},
   "outputs": [
    {
     "data": {
      "text/plain": [
       "90"
      ]
     },
     "execution_count": 320,
     "metadata": {},
     "output_type": "execute_result"
    }
   ],
   "source": [
    "d['국어']"
   ]
  },
  {
   "cell_type": "code",
   "execution_count": 322,
   "id": "d637b12d",
   "metadata": {},
   "outputs": [
    {
     "name": "stdout",
     "output_type": "stream",
     "text": [
      "90\n",
      "100\n",
      "95\n"
     ]
    }
   ],
   "source": [
    "#딕셔너리의 예\n",
    "for k,v in d.items():\n",
    "    print(v)    "
   ]
  },
  {
   "cell_type": "code",
   "execution_count": 324,
   "id": "9a9c6d1c",
   "metadata": {},
   "outputs": [
    {
     "name": "stdout",
     "output_type": "stream",
     "text": [
      "서울 1000\n",
      "부산 300\n",
      "인천 150\n",
      "대구 200\n"
     ]
    }
   ],
   "source": [
    "for k,v in s.items():\n",
    "    print(k,v)"
   ]
  },
  {
   "cell_type": "code",
   "execution_count": 325,
   "id": "9e7d502a",
   "metadata": {},
   "outputs": [
    {
     "data": {
      "text/plain": [
       "{'국어': 90, '영어': 100, '수학': 95}"
      ]
     },
     "execution_count": 325,
     "metadata": {},
     "output_type": "execute_result"
    }
   ],
   "source": [
    "d"
   ]
  },
  {
   "cell_type": "code",
   "execution_count": 326,
   "id": "87076b61",
   "metadata": {},
   "outputs": [
    {
     "data": {
      "text/plain": [
       "국어     90\n",
       "영어    100\n",
       "수학     95\n",
       "dtype: int64"
      ]
     },
     "execution_count": 326,
     "metadata": {},
     "output_type": "execute_result"
    }
   ],
   "source": [
    "s2=pd.Series(d)\n",
    "s2"
   ]
  },
  {
   "cell_type": "code",
   "execution_count": 327,
   "id": "338ca18f",
   "metadata": {},
   "outputs": [
    {
     "data": {
      "text/plain": [
       "도시명\n",
       "서울    1000\n",
       "부산     300\n",
       "인천     150\n",
       "대구     200\n",
       "Name: 인구데이터, dtype: int64"
      ]
     },
     "execution_count": 327,
     "metadata": {},
     "output_type": "execute_result"
    }
   ],
   "source": [
    "s"
   ]
  },
  {
   "cell_type": "code",
   "execution_count": 328,
   "id": "f55803f7",
   "metadata": {},
   "outputs": [],
   "source": [
    "s2 = pd.Series({\"서울\": 9631482, \"부산\": 3393191, \"인천\": 2632035, \"대전\": 1490158},\n",
    "               index=[\"부산\", \"서울\", \"인천\", \"대전\"])"
   ]
  },
  {
   "cell_type": "code",
   "execution_count": 329,
   "id": "bc7fea75",
   "metadata": {},
   "outputs": [
    {
     "data": {
      "text/plain": [
       "부산    3393191\n",
       "서울    9631482\n",
       "인천    2632035\n",
       "대전    1490158\n",
       "dtype: int64"
      ]
     },
     "execution_count": 329,
     "metadata": {},
     "output_type": "execute_result"
    }
   ],
   "source": [
    "s2"
   ]
  },
  {
   "cell_type": "code",
   "execution_count": 330,
   "id": "9677eb6d",
   "metadata": {},
   "outputs": [
    {
     "data": {
      "text/plain": [
       "대구          NaN\n",
       "대전          NaN\n",
       "부산   -3392891.0\n",
       "서울   -9630482.0\n",
       "인천   -2631885.0\n",
       "dtype: float64"
      ]
     },
     "execution_count": 330,
     "metadata": {},
     "output_type": "execute_result"
    }
   ],
   "source": [
    "s-s2 #같은 인덱스끼리 여산 -> NaN, float"
   ]
  },
  {
   "cell_type": "code",
   "execution_count": 331,
   "id": "fad4b075",
   "metadata": {},
   "outputs": [
    {
     "data": {
      "text/plain": [
       "array([1000,  300,  150,  200], dtype=int64)"
      ]
     },
     "execution_count": 331,
     "metadata": {},
     "output_type": "execute_result"
    }
   ],
   "source": [
    "s.values"
   ]
  },
  {
   "cell_type": "code",
   "execution_count": 332,
   "id": "6f4235ff",
   "metadata": {},
   "outputs": [
    {
     "data": {
      "text/plain": [
       "array([3393191, 9631482, 2632035, 1490158], dtype=int64)"
      ]
     },
     "execution_count": 332,
     "metadata": {},
     "output_type": "execute_result"
    }
   ],
   "source": [
    "s2.values"
   ]
  },
  {
   "cell_type": "code",
   "execution_count": 333,
   "id": "014fed0f",
   "metadata": {
    "scrolled": true
   },
   "outputs": [
    {
     "data": {
      "text/plain": [
       "array([-3392191, -9631182, -2631885, -1489958], dtype=int64)"
      ]
     },
     "execution_count": 333,
     "metadata": {},
     "output_type": "execute_result"
    }
   ],
   "source": [
    "s.values-s2.values#값들끼리 연산하게되면 인덱스 정보는 무시(주의)"
   ]
  },
  {
   "cell_type": "code",
   "execution_count": 337,
   "id": "c8cf0a8e",
   "metadata": {},
   "outputs": [
    {
     "data": {
      "text/plain": [
       "대구          NaN\n",
       "대전          NaN\n",
       "부산   -3392891.0\n",
       "서울   -9630482.0\n",
       "인천   -2631885.0\n",
       "dtype: float64"
      ]
     },
     "execution_count": 337,
     "metadata": {},
     "output_type": "execute_result"
    }
   ],
   "source": [
    "ds=s-s2\n",
    "ds"
   ]
  },
  {
   "cell_type": "code",
   "execution_count": 338,
   "id": "a409abba",
   "metadata": {},
   "outputs": [
    {
     "data": {
      "text/plain": [
       "대구    False\n",
       "대전    False\n",
       "부산     True\n",
       "서울     True\n",
       "인천     True\n",
       "dtype: bool"
      ]
     },
     "execution_count": 338,
     "metadata": {},
     "output_type": "execute_result"
    }
   ],
   "source": [
    "ds.notnull() #null은 NaN을 의미함."
   ]
  },
  {
   "cell_type": "code",
   "execution_count": 340,
   "id": "bbcbbeb9",
   "metadata": {},
   "outputs": [],
   "source": [
    "rs=ds[ds.notnull() ]"
   ]
  },
  {
   "cell_type": "code",
   "execution_count": 341,
   "id": "f0bcd166",
   "metadata": {},
   "outputs": [
    {
     "data": {
      "text/plain": [
       "부산   -3392891.0\n",
       "서울   -9630482.0\n",
       "인천   -2631885.0\n",
       "dtype: float64"
      ]
     },
     "execution_count": 341,
     "metadata": {},
     "output_type": "execute_result"
    }
   ],
   "source": [
    "rs"
   ]
  },
  {
   "cell_type": "code",
   "execution_count": 343,
   "id": "de08ee8b",
   "metadata": {},
   "outputs": [],
   "source": [
    "#데이터 갱신\n",
    "rs['서울']=10"
   ]
  },
  {
   "cell_type": "code",
   "execution_count": 344,
   "id": "7cb04075",
   "metadata": {},
   "outputs": [],
   "source": [
    "#데이터 제거\n",
    "del rs['서울']"
   ]
  },
  {
   "cell_type": "code",
   "execution_count": 345,
   "id": "3b0d2bf6",
   "metadata": {},
   "outputs": [
    {
     "data": {
      "text/plain": [
       "부산   -3392891.0\n",
       "인천   -2631885.0\n",
       "dtype: float64"
      ]
     },
     "execution_count": 345,
     "metadata": {},
     "output_type": "execute_result"
    }
   ],
   "source": [
    "rs"
   ]
  },
  {
   "cell_type": "code",
   "execution_count": 347,
   "id": "8e9f2fd3",
   "metadata": {},
   "outputs": [],
   "source": [
    "from sklearn.datasets import load_iris\n",
    "#설치 방법 : pip install scikit-learn"
   ]
  },
  {
   "cell_type": "code",
   "execution_count": 349,
   "id": "bdfc92a1",
   "metadata": {},
   "outputs": [],
   "source": [
    "iris=load_iris() #ㄷ기셔너리"
   ]
  },
  {
   "cell_type": "code",
   "execution_count": 351,
   "id": "f128da40",
   "metadata": {},
   "outputs": [
    {
     "data": {
      "text/plain": [
       "dict_keys(['data', 'target', 'frame', 'target_names', 'DESCR', 'feature_names', 'filename'])"
      ]
     },
     "execution_count": 351,
     "metadata": {},
     "output_type": "execute_result"
    }
   ],
   "source": [
    "iris.keys()"
   ]
  },
  {
   "cell_type": "code",
   "execution_count": 354,
   "id": "85623169",
   "metadata": {},
   "outputs": [
    {
     "data": {
      "text/plain": [
       "(150, 4)"
      ]
     },
     "execution_count": 354,
     "metadata": {},
     "output_type": "execute_result"
    }
   ],
   "source": [
    "iris['data']\n",
    "iris.data\n",
    "iris.data.shape #(150, 4)"
   ]
  },
  {
   "cell_type": "code",
   "execution_count": 356,
   "id": "70b93217",
   "metadata": {},
   "outputs": [
    {
     "data": {
      "text/plain": [
       "array([5.1, 3.5, 1.4, 0.2])"
      ]
     },
     "execution_count": 356,
     "metadata": {},
     "output_type": "execute_result"
    }
   ],
   "source": [
    "iris.data[0]"
   ]
  },
  {
   "cell_type": "code",
   "execution_count": 357,
   "id": "603f35b8",
   "metadata": {},
   "outputs": [
    {
     "data": {
      "text/plain": [
       "array([[5.1, 3.5, 1.4, 0.2],\n",
       "       [4.9, 3. , 1.4, 0.2],\n",
       "       [4.7, 3.2, 1.3, 0.2],\n",
       "       [4.6, 3.1, 1.5, 0.2],\n",
       "       [5. , 3.6, 1.4, 0.2],\n",
       "       [5.4, 3.9, 1.7, 0.4],\n",
       "       [4.6, 3.4, 1.4, 0.3],\n",
       "       [5. , 3.4, 1.5, 0.2],\n",
       "       [4.4, 2.9, 1.4, 0.2],\n",
       "       [4.9, 3.1, 1.5, 0.1],\n",
       "       [5.4, 3.7, 1.5, 0.2],\n",
       "       [4.8, 3.4, 1.6, 0.2],\n",
       "       [4.8, 3. , 1.4, 0.1],\n",
       "       [4.3, 3. , 1.1, 0.1],\n",
       "       [5.8, 4. , 1.2, 0.2],\n",
       "       [5.7, 4.4, 1.5, 0.4],\n",
       "       [5.4, 3.9, 1.3, 0.4],\n",
       "       [5.1, 3.5, 1.4, 0.3],\n",
       "       [5.7, 3.8, 1.7, 0.3],\n",
       "       [5.1, 3.8, 1.5, 0.3],\n",
       "       [5.4, 3.4, 1.7, 0.2],\n",
       "       [5.1, 3.7, 1.5, 0.4],\n",
       "       [4.6, 3.6, 1. , 0.2],\n",
       "       [5.1, 3.3, 1.7, 0.5],\n",
       "       [4.8, 3.4, 1.9, 0.2],\n",
       "       [5. , 3. , 1.6, 0.2],\n",
       "       [5. , 3.4, 1.6, 0.4],\n",
       "       [5.2, 3.5, 1.5, 0.2],\n",
       "       [5.2, 3.4, 1.4, 0.2],\n",
       "       [4.7, 3.2, 1.6, 0.2],\n",
       "       [4.8, 3.1, 1.6, 0.2],\n",
       "       [5.4, 3.4, 1.5, 0.4],\n",
       "       [5.2, 4.1, 1.5, 0.1],\n",
       "       [5.5, 4.2, 1.4, 0.2],\n",
       "       [4.9, 3.1, 1.5, 0.2],\n",
       "       [5. , 3.2, 1.2, 0.2],\n",
       "       [5.5, 3.5, 1.3, 0.2],\n",
       "       [4.9, 3.6, 1.4, 0.1],\n",
       "       [4.4, 3. , 1.3, 0.2],\n",
       "       [5.1, 3.4, 1.5, 0.2],\n",
       "       [5. , 3.5, 1.3, 0.3],\n",
       "       [4.5, 2.3, 1.3, 0.3],\n",
       "       [4.4, 3.2, 1.3, 0.2],\n",
       "       [5. , 3.5, 1.6, 0.6],\n",
       "       [5.1, 3.8, 1.9, 0.4],\n",
       "       [4.8, 3. , 1.4, 0.3],\n",
       "       [5.1, 3.8, 1.6, 0.2],\n",
       "       [4.6, 3.2, 1.4, 0.2],\n",
       "       [5.3, 3.7, 1.5, 0.2],\n",
       "       [5. , 3.3, 1.4, 0.2],\n",
       "       [7. , 3.2, 4.7, 1.4],\n",
       "       [6.4, 3.2, 4.5, 1.5],\n",
       "       [6.9, 3.1, 4.9, 1.5],\n",
       "       [5.5, 2.3, 4. , 1.3],\n",
       "       [6.5, 2.8, 4.6, 1.5],\n",
       "       [5.7, 2.8, 4.5, 1.3],\n",
       "       [6.3, 3.3, 4.7, 1.6],\n",
       "       [4.9, 2.4, 3.3, 1. ],\n",
       "       [6.6, 2.9, 4.6, 1.3],\n",
       "       [5.2, 2.7, 3.9, 1.4],\n",
       "       [5. , 2. , 3.5, 1. ],\n",
       "       [5.9, 3. , 4.2, 1.5],\n",
       "       [6. , 2.2, 4. , 1. ],\n",
       "       [6.1, 2.9, 4.7, 1.4],\n",
       "       [5.6, 2.9, 3.6, 1.3],\n",
       "       [6.7, 3.1, 4.4, 1.4],\n",
       "       [5.6, 3. , 4.5, 1.5],\n",
       "       [5.8, 2.7, 4.1, 1. ],\n",
       "       [6.2, 2.2, 4.5, 1.5],\n",
       "       [5.6, 2.5, 3.9, 1.1],\n",
       "       [5.9, 3.2, 4.8, 1.8],\n",
       "       [6.1, 2.8, 4. , 1.3],\n",
       "       [6.3, 2.5, 4.9, 1.5],\n",
       "       [6.1, 2.8, 4.7, 1.2],\n",
       "       [6.4, 2.9, 4.3, 1.3],\n",
       "       [6.6, 3. , 4.4, 1.4],\n",
       "       [6.8, 2.8, 4.8, 1.4],\n",
       "       [6.7, 3. , 5. , 1.7],\n",
       "       [6. , 2.9, 4.5, 1.5],\n",
       "       [5.7, 2.6, 3.5, 1. ],\n",
       "       [5.5, 2.4, 3.8, 1.1],\n",
       "       [5.5, 2.4, 3.7, 1. ],\n",
       "       [5.8, 2.7, 3.9, 1.2],\n",
       "       [6. , 2.7, 5.1, 1.6],\n",
       "       [5.4, 3. , 4.5, 1.5],\n",
       "       [6. , 3.4, 4.5, 1.6],\n",
       "       [6.7, 3.1, 4.7, 1.5],\n",
       "       [6.3, 2.3, 4.4, 1.3],\n",
       "       [5.6, 3. , 4.1, 1.3],\n",
       "       [5.5, 2.5, 4. , 1.3],\n",
       "       [5.5, 2.6, 4.4, 1.2],\n",
       "       [6.1, 3. , 4.6, 1.4],\n",
       "       [5.8, 2.6, 4. , 1.2],\n",
       "       [5. , 2.3, 3.3, 1. ],\n",
       "       [5.6, 2.7, 4.2, 1.3],\n",
       "       [5.7, 3. , 4.2, 1.2],\n",
       "       [5.7, 2.9, 4.2, 1.3],\n",
       "       [6.2, 2.9, 4.3, 1.3],\n",
       "       [5.1, 2.5, 3. , 1.1],\n",
       "       [5.7, 2.8, 4.1, 1.3],\n",
       "       [6.3, 3.3, 6. , 2.5],\n",
       "       [5.8, 2.7, 5.1, 1.9],\n",
       "       [7.1, 3. , 5.9, 2.1],\n",
       "       [6.3, 2.9, 5.6, 1.8],\n",
       "       [6.5, 3. , 5.8, 2.2],\n",
       "       [7.6, 3. , 6.6, 2.1],\n",
       "       [4.9, 2.5, 4.5, 1.7],\n",
       "       [7.3, 2.9, 6.3, 1.8],\n",
       "       [6.7, 2.5, 5.8, 1.8],\n",
       "       [7.2, 3.6, 6.1, 2.5],\n",
       "       [6.5, 3.2, 5.1, 2. ],\n",
       "       [6.4, 2.7, 5.3, 1.9],\n",
       "       [6.8, 3. , 5.5, 2.1],\n",
       "       [5.7, 2.5, 5. , 2. ],\n",
       "       [5.8, 2.8, 5.1, 2.4],\n",
       "       [6.4, 3.2, 5.3, 2.3],\n",
       "       [6.5, 3. , 5.5, 1.8],\n",
       "       [7.7, 3.8, 6.7, 2.2],\n",
       "       [7.7, 2.6, 6.9, 2.3],\n",
       "       [6. , 2.2, 5. , 1.5],\n",
       "       [6.9, 3.2, 5.7, 2.3],\n",
       "       [5.6, 2.8, 4.9, 2. ],\n",
       "       [7.7, 2.8, 6.7, 2. ],\n",
       "       [6.3, 2.7, 4.9, 1.8],\n",
       "       [6.7, 3.3, 5.7, 2.1],\n",
       "       [7.2, 3.2, 6. , 1.8],\n",
       "       [6.2, 2.8, 4.8, 1.8],\n",
       "       [6.1, 3. , 4.9, 1.8],\n",
       "       [6.4, 2.8, 5.6, 2.1],\n",
       "       [7.2, 3. , 5.8, 1.6],\n",
       "       [7.4, 2.8, 6.1, 1.9],\n",
       "       [7.9, 3.8, 6.4, 2. ],\n",
       "       [6.4, 2.8, 5.6, 2.2],\n",
       "       [6.3, 2.8, 5.1, 1.5],\n",
       "       [6.1, 2.6, 5.6, 1.4],\n",
       "       [7.7, 3. , 6.1, 2.3],\n",
       "       [6.3, 3.4, 5.6, 2.4],\n",
       "       [6.4, 3.1, 5.5, 1.8],\n",
       "       [6. , 3. , 4.8, 1.8],\n",
       "       [6.9, 3.1, 5.4, 2.1],\n",
       "       [6.7, 3.1, 5.6, 2.4],\n",
       "       [6.9, 3.1, 5.1, 2.3],\n",
       "       [5.8, 2.7, 5.1, 1.9],\n",
       "       [6.8, 3.2, 5.9, 2.3],\n",
       "       [6.7, 3.3, 5.7, 2.5],\n",
       "       [6.7, 3. , 5.2, 2.3],\n",
       "       [6.3, 2.5, 5. , 1.9],\n",
       "       [6.5, 3. , 5.2, 2. ],\n",
       "       [6.2, 3.4, 5.4, 2.3],\n",
       "       [5.9, 3. , 5.1, 1.8]])"
      ]
     },
     "execution_count": 357,
     "metadata": {},
     "output_type": "execute_result"
    }
   ],
   "source": [
    "iris.data\n",
    "[5.1, 3.5, 1.4, 0.2]\n",
    "[4.9, 3. , 1.4, 0.2]\n",
    "ecu_dist=np.sqrt((5.1-4.9)^2+...( 0.2-0.2)^2)"
   ]
  },
  {
   "cell_type": "code",
   "execution_count": null,
   "id": "a5411ea7",
   "metadata": {},
   "outputs": [],
   "source": []
  }
 ],
 "metadata": {
  "kernelspec": {
   "display_name": "Python 3 (ipykernel)",
   "language": "python",
   "name": "python3"
  },
  "language_info": {
   "codemirror_mode": {
    "name": "ipython",
    "version": 3
   },
   "file_extension": ".py",
   "mimetype": "text/x-python",
   "name": "python",
   "nbconvert_exporter": "python",
   "pygments_lexer": "ipython3",
   "version": "3.9.7"
  }
 },
 "nbformat": 4,
 "nbformat_minor": 5
}
