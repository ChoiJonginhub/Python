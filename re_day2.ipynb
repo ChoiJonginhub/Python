{
 "cells": [
  {
   "cell_type": "code",
   "execution_count": 29,
   "metadata": {},
   "outputs": [],
   "source": [
    "import re"
   ]
  },
  {
   "cell_type": "code",
   "execution_count": 35,
   "metadata": {},
   "outputs": [
    {
     "data": {
      "text/plain": [
       "10"
      ]
     },
     "execution_count": 35,
     "metadata": {},
     "output_type": "execute_result"
    }
   ],
   "source": [
    "m=re.match(\"\\d+ \\d+\",\"10 200\")\n",
    "res=m.group()\n",
    "scores=res.split()\n",
    "int(scores[0])"
   ]
  },
  {
   "cell_type": "code",
   "execution_count": 39,
   "metadata": {},
   "outputs": [],
   "source": [
    "m=re.match(\"([\\d]+) ([\\d]+)\",\"10 200\")\n",
    "#패턴 내부에서 정규표현식을 ()소괄호로 묶으면 그룹이 됨"
   ]
  },
  {
   "cell_type": "code",
   "execution_count": 46,
   "metadata": {},
   "outputs": [
    {
     "data": {
      "text/plain": [
       "('10', '200')"
      ]
     },
     "execution_count": 46,
     "metadata": {},
     "output_type": "execute_result"
    }
   ],
   "source": [
    "m.group(1) #m.groups()[0] 같음\n",
    "m.group(2)\n",
    "m.group() #m.group(0)  같음\n",
    "m.groups()\n"
   ]
  },
  {
   "cell_type": "code",
   "execution_count": null,
   "metadata": {},
   "outputs": [],
   "source": [
    "#그룹이 많을때는 그룹 단위로 이름을 부여하여 구분\n",
    "#(?P<이름>정규표현식)"
   ]
  },
  {
   "cell_type": "code",
   "execution_count": 49,
   "metadata": {},
   "outputs": [
    {
     "data": {
      "text/plain": [
       "'123'"
      ]
     },
     "execution_count": 49,
     "metadata": {},
     "output_type": "execute_result"
    }
   ],
   "source": [
    "m=re.match(\"(?P<func>[a-zA-Z_][a-zA-Z0-9_]+)\\((?P<arg>\\w+)\\)\",\"print(123)\")\n",
    "m.group('func')\n",
    "m.group('arg')\n"
   ]
  },
  {
   "cell_type": "code",
   "execution_count": null,
   "metadata": {},
   "outputs": [],
   "source": [
    "#영문자/언더바 1글자 + 영문자/숫자/언더바 1글자 이상"
   ]
  },
  {
   "cell_type": "code",
   "execution_count": null,
   "metadata": {},
   "outputs": [],
   "source": [
    "#문자열에서 함수이름과 인수를 각각 추출"
   ]
  },
  {
   "cell_type": "code",
   "execution_count": null,
   "metadata": {},
   "outputs": [],
   "source": [
    "\"1 2 abc 3 def 4 5 ghi\""
   ]
  },
  {
   "cell_type": "code",
   "execution_count": 54,
   "metadata": {},
   "outputs": [
    {
     "data": {
      "text/plain": [
       "['111', '2', '3', '4', '5']"
      ]
     },
     "execution_count": 54,
     "metadata": {},
     "output_type": "execute_result"
    }
   ],
   "source": [
    "re.findall(\"\\d+\",\"1 2 abc 3 def 4 5 ghi\")\n",
    "re.findall(\"[0-9]+\",\"111 2 abc 3 def 4 5 ghi\")\n",
    "#re.findall(\"[0-9]\",\"111 2 abc 3 def 4 5 ghi\")"
   ]
  },
  {
   "cell_type": "code",
   "execution_count": null,
   "metadata": {},
   "outputs": [],
   "source": [
    "a=\"1 2 abc 3 def 4 5 ghi\"\n",
    "re.match(\"(\\d+) (\\d+) \\w+ (\\d+) \\w+ (\\d+) (\\d+) \\w+\",a)\n"
   ]
  },
  {
   "cell_type": "code",
   "execution_count": null,
   "metadata": {},
   "outputs": [],
   "source": []
  },
  {
   "cell_type": "code",
   "execution_count": null,
   "metadata": {},
   "outputs": [],
   "source": [
    "#대한민국 한국 고려 조선 남한 코리아 => 대한민국 통일\n",
    "#\"Donald_Trump .... trump\""
   ]
  },
  {
   "cell_type": "code",
   "execution_count": null,
   "metadata": {},
   "outputs": [],
   "source": [
    "#re.sub(\"패턴식\", \"바꿀문자열\", \"문자열\", \"바꿀횟수\")\n",
    "#바꿀횟수는 생략시 모두 변경"
   ]
  },
  {
   "cell_type": "code",
   "execution_count": 55,
   "metadata": {},
   "outputs": [
    {
     "data": {
      "text/plain": [
       "'fruit box fruit tree'"
      ]
     },
     "execution_count": 55,
     "metadata": {},
     "output_type": "execute_result"
    }
   ],
   "source": [
    "re.sub(\"apple|orange\",\"fruit\",\"apple box orange tree\")"
   ]
  },
  {
   "cell_type": "code",
   "execution_count": null,
   "metadata": {},
   "outputs": [],
   "source": [
    "#\"100 200 abc 한국 300 데이터 500\"\n",
    "#숫자를 모두 num으로 변경"
   ]
  },
  {
   "cell_type": "code",
   "execution_count": 56,
   "metadata": {},
   "outputs": [
    {
     "data": {
      "text/plain": [
       "'num num abc 한국 num 데이터 num'"
      ]
     },
     "execution_count": 56,
     "metadata": {},
     "output_type": "execute_result"
    }
   ],
   "source": [
    "re.sub(\"[0-9]+\",\"num\",\"100 200 abc 한국 300 데이터 500\")"
   ]
  },
  {
   "cell_type": "code",
   "execution_count": 62,
   "metadata": {},
   "outputs": [
    {
     "data": {
      "text/plain": [
       "'1000 2000 abc 한국 3000 데이터 5000'"
      ]
     },
     "execution_count": 62,
     "metadata": {},
     "output_type": "execute_result"
    }
   ],
   "source": [
    "# \"100 200 abc 한국 300 데이터 500\"에서 숫자를 찾은 다음\n",
    "# 각 숫자를 10배한 값으로 변경\n",
    "# \"1000 2000 abc 한국 3000 데이터 5000\"\n",
    "\n",
    "# re.sub(\"패턴\", 함수, \"문자열\", \"변경횟수\")\n",
    "# 문자열에서 패턴에 해당되는 부분이 함수에 인수로서 전달됨\n",
    "# 함수에서 처리 작업 수행하고 리턴\n",
    "\n",
    "def mul10(num):\n",
    "    #print(int(num.group())*10)\n",
    "    return str(int(num.group())*10)\n",
    "\n",
    "re.sub(\"[0-9]+\", mul10, \"100 200 abc 한국 300 데이터 500\")\n"
   ]
  },
  {
   "cell_type": "code",
   "execution_count": 63,
   "metadata": {},
   "outputs": [
    {
     "data": {
      "text/plain": [
       "'1000 2000 abc 한국 3000 데이터 5000'"
      ]
     },
     "execution_count": 63,
     "metadata": {},
     "output_type": "execute_result"
    }
   ],
   "source": [
    "re.sub(\"[0-9]+\", lambda num:str(int(num.group())*10), \"100 200 abc 한국 300 데이터 500\")\n"
   ]
  },
  {
   "cell_type": "code",
   "execution_count": null,
   "metadata": {},
   "outputs": [],
   "source": []
  },
  {
   "cell_type": "code",
   "execution_count": 64,
   "metadata": {},
   "outputs": [],
   "source": [
    "import pandas as pd"
   ]
  },
  {
   "cell_type": "code",
   "execution_count": 66,
   "metadata": {},
   "outputs": [],
   "source": [
    "df=pd.read_csv(\"train.csv\")"
   ]
  },
  {
   "cell_type": "code",
   "execution_count": 67,
   "metadata": {},
   "outputs": [
    {
     "name": "stdout",
     "output_type": "stream",
     "text": [
      "<class 'pandas.core.frame.DataFrame'>\n",
      "RangeIndex: 891 entries, 0 to 890\n",
      "Data columns (total 12 columns):\n",
      "PassengerId    891 non-null int64\n",
      "Survived       891 non-null int64\n",
      "Pclass         891 non-null int64\n",
      "Name           891 non-null object\n",
      "Sex            891 non-null object\n",
      "Age            714 non-null float64\n",
      "SibSp          891 non-null int64\n",
      "Parch          891 non-null int64\n",
      "Ticket         891 non-null object\n",
      "Fare           891 non-null float64\n",
      "Cabin          204 non-null object\n",
      "Embarked       889 non-null object\n",
      "dtypes: float64(2), int64(5), object(5)\n",
      "memory usage: 83.7+ KB\n"
     ]
    }
   ],
   "source": [
    "df.info()"
   ]
  },
  {
   "cell_type": "code",
   "execution_count": 70,
   "metadata": {},
   "outputs": [],
   "source": [
    "df['Name']\n",
    "\n",
    "n1='Futrelle, Mrs. Jacques Heath (Lily May Peel)'\n",
    "n2='Johnston, Miss. Catherine Helen \"Carrie\"'\n",
    "n3='Dooley, Mr. Patrick'"
   ]
  },
  {
   "cell_type": "code",
   "execution_count": 73,
   "metadata": {},
   "outputs": [
    {
     "data": {
      "text/plain": [
       "['Mrs.']"
      ]
     },
     "execution_count": 73,
     "metadata": {},
     "output_type": "execute_result"
    }
   ],
   "source": [
    "# Mrs.\n",
    "# Miss.\n",
    "# Mr.\n",
    "re.search(\", M[irs]+.\",n1)\n",
    "re.search(\" [A-Za-z.]+\",n1)\n",
    "re.findall(\" (\\w+[.]) \",n1)\n"
   ]
  },
  {
   "cell_type": "code",
   "execution_count": 74,
   "metadata": {},
   "outputs": [],
   "source": [
    "# 클래스 : 동작 및 속성이 유사한 객체들 모음\n",
    "# 객체 : 게임 캐릭터\n",
    "# 동작(메서드):활쏘기, 칼베기\n",
    "# 속성:레벨, 체력, 공격력,..."
   ]
  },
  {
   "cell_type": "code",
   "execution_count": 75,
   "metadata": {},
   "outputs": [],
   "source": [
    "#클래스 정의\n",
    "class 클래스명:\n",
    "    def 메서드명(self):\n",
    "        코드"
   ]
  },
  {
   "cell_type": "code",
   "execution_count": 82,
   "metadata": {},
   "outputs": [],
   "source": [
    "class Person:\n",
    "    def study(self):\n",
    "        print(\"python study\")\n",
    "    def hello(self):\n",
    "        self.study()"
   ]
  },
  {
   "cell_type": "code",
   "execution_count": 83,
   "metadata": {},
   "outputs": [],
   "source": [
    "hgd=Person() #클래스() => 객체 생성"
   ]
  },
  {
   "cell_type": "code",
   "execution_count": 84,
   "metadata": {},
   "outputs": [
    {
     "name": "stdout",
     "output_type": "stream",
     "text": [
      "python study\n"
     ]
    }
   ],
   "source": [
    "hgd.hello()"
   ]
  },
  {
   "cell_type": "code",
   "execution_count": 78,
   "metadata": {},
   "outputs": [
    {
     "name": "stdout",
     "output_type": "stream",
     "text": [
      "python study\n"
     ]
    }
   ],
   "source": [
    "hgd.study()"
   ]
  },
  {
   "cell_type": "code",
   "execution_count": 79,
   "metadata": {},
   "outputs": [
    {
     "data": {
      "text/plain": [
       "__main__.Person"
      ]
     },
     "execution_count": 79,
     "metadata": {},
     "output_type": "execute_result"
    }
   ],
   "source": [
    "type(hgd)"
   ]
  },
  {
   "cell_type": "code",
   "execution_count": 85,
   "metadata": {},
   "outputs": [],
   "source": [
    "#클래스에서 속성을 만들때는 __init__ 메서드 안에서 self.속성명=값 형태로 작성"
   ]
  },
  {
   "cell_type": "code",
   "execution_count": 113,
   "metadata": {},
   "outputs": [],
   "source": [
    "class 붕어빵기계:\n",
    "    def 굽는다(self):\n",
    "        print(\"굽는작업\")\n",
    "    def __init__(self):\n",
    "        self.con=\"팥\"\n",
    "        self.width=\"10\"\n",
    "        self.height=\"5\""
   ]
  },
  {
   "cell_type": "code",
   "execution_count": 116,
   "metadata": {},
   "outputs": [
    {
     "name": "stdout",
     "output_type": "stream",
     "text": [
      "5\n"
     ]
    }
   ],
   "source": [
    "붕어빵1=붕어빵기계()\n",
    "print(붕어빵1.height)"
   ]
  },
  {
   "cell_type": "code",
   "execution_count": 107,
   "metadata": {},
   "outputs": [],
   "source": [
    "class Person:\n",
    "    def study(self):\n",
    "        print(\"study\")\n",
    "    def __init__(self):\n",
    "        self.say=\"응애응애\"\n",
    "        self.name=\"아가\"\n",
    "        self.age=\"1\"\n",
    "        print(\"init가 호출됨\")\n",
    "    def greeting(self):\n",
    "        print(self.say)\n",
    "        #클래스 내부에서 속성을 사용할때는 self.속성명"
   ]
  },
  {
   "cell_type": "code",
   "execution_count": 108,
   "metadata": {},
   "outputs": [
    {
     "name": "stdout",
     "output_type": "stream",
     "text": [
      "init가 호출됨\n"
     ]
    }
   ],
   "source": [
    "ikj=Person() #__init__:클래스에 괄호()를 붙여서 객체를 생성하면 자동으로\n",
    "#호출되는 특별한 메서드"
   ]
  },
  {
   "cell_type": "code",
   "execution_count": 112,
   "metadata": {},
   "outputs": [
    {
     "name": "stdout",
     "output_type": "stream",
     "text": [
      "<__main__.Person object at 0x0000019035E9A788>\n",
      "응애응애\n",
      "1\n"
     ]
    }
   ],
   "source": [
    "print(ikj)\n",
    "print(ikj.say)\n",
    "print(ikj.age)"
   ]
  },
  {
   "cell_type": "code",
   "execution_count": 109,
   "metadata": {},
   "outputs": [
    {
     "name": "stdout",
     "output_type": "stream",
     "text": [
      "응애응애\n"
     ]
    }
   ],
   "source": [
    "# ikj.study()\n",
    "# ikj.hello\n",
    "ikj.greeting()\n"
   ]
  },
  {
   "cell_type": "code",
   "execution_count": 118,
   "metadata": {},
   "outputs": [],
   "source": [
    "class Person:\n",
    "    def __init__(self, name, age, addr):\n",
    "        self.name=name\n",
    "        self.age=age  \n",
    "        self.addr=addr\n",
    "        self.gen=\"female\"\n",
    "    def hello(self):\n",
    "        print(\"{0} 저는 {1}입니다\".format(self.age,self.name))"
   ]
  },
  {
   "cell_type": "code",
   "execution_count": 120,
   "metadata": {},
   "outputs": [],
   "source": [
    "ikj=Person('임꺽정', 20, '서울시')"
   ]
  },
  {
   "cell_type": "code",
   "execution_count": 125,
   "metadata": {},
   "outputs": [
    {
     "name": "stdout",
     "output_type": "stream",
     "text": [
      "female\n",
      "20 저는 임꺽정입니다\n"
     ]
    }
   ],
   "source": [
    "print(ikj.gen)\n",
    "ikj.hello()"
   ]
  },
  {
   "cell_type": "code",
   "execution_count": null,
   "metadata": {},
   "outputs": [],
   "source": []
  },
  {
   "cell_type": "code",
   "execution_count": null,
   "metadata": {},
   "outputs": [],
   "source": [
    "# 부모클래스(기반, 슈퍼):물려주는 기능 \n",
    "# 자식클래스(파생, 서브):물려받는 기능"
   ]
  },
  {
   "cell_type": "code",
   "execution_count": 126,
   "metadata": {},
   "outputs": [],
   "source": [
    "# 상속\n",
    "# 동물클래스-(잔다,먹는다,...)\n",
    "#   |                |             |\n",
    "# 파충류클래스    조류클래스   포유류클래스\n",
    "#   |                |              |\n",
    "# 뱀클래스           참새          사람\n",
    "# 기어다닌다        부리모양,...    공부한다,생각한다,...\n",
    "# 독성               \n"
   ]
  },
  {
   "cell_type": "code",
   "execution_count": null,
   "metadata": {},
   "outputs": [],
   "source": []
  },
  {
   "cell_type": "code",
   "execution_count": 129,
   "metadata": {},
   "outputs": [],
   "source": [
    "class 동물:\n",
    "    def 먹는다(self):\n",
    "        print(\"맛있게 먹는다\")"
   ]
  },
  {
   "cell_type": "code",
   "execution_count": 130,
   "metadata": {},
   "outputs": [],
   "source": [
    "class 사람(동물): #동물클래스로부터 상속받아 사람클래스 정의\n",
    "    def 공부한다(self):\n",
    "        print(\"열심히 공부한다\")    \n",
    "#     def 먹는다(self):  상속받아서 존재함\n",
    "#         print(\"맛있게 먹는다\")"
   ]
  },
  {
   "cell_type": "code",
   "execution_count": 131,
   "metadata": {},
   "outputs": [],
   "source": [
    "세종=사람()"
   ]
  },
  {
   "cell_type": "code",
   "execution_count": 133,
   "metadata": {},
   "outputs": [
    {
     "name": "stdout",
     "output_type": "stream",
     "text": [
      "열심히 공부한다\n",
      "맛있게 먹는다\n"
     ]
    }
   ],
   "source": [
    "세종.공부한다()\n",
    "세종.먹는다()"
   ]
  },
  {
   "cell_type": "code",
   "execution_count": null,
   "metadata": {},
   "outputs": [],
   "source": [
    "가-힣\n",
    "ㄱ-ㅎ"
   ]
  }
 ],
 "metadata": {
  "kernelspec": {
   "display_name": "Python 3",
   "language": "python",
   "name": "python3"
  },
  "language_info": {
   "codemirror_mode": {
    "name": "ipython",
    "version": 3
   },
   "file_extension": ".py",
   "mimetype": "text/x-python",
   "name": "python",
   "nbconvert_exporter": "python",
   "pygments_lexer": "ipython3",
   "version": "3.7.4"
  }
 },
 "nbformat": 4,
 "nbformat_minor": 2
}
